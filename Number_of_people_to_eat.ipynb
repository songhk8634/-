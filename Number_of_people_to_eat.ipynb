{
 "cells": [
  {
   "cell_type": "code",
   "execution_count": 537,
   "metadata": {},
   "outputs": [],
   "source": [
    "# 그래프 한글깨짐 보완\n",
    "from matplotlib import font_manager, rc\n",
    "font_name = font_manager.FontProperties(fname=\"c:/Windows/Fonts/malgun.ttf\").get_name()\n",
    "rc('font', family=font_name)\n",
    "import numpy as np\n",
    "import pandas as pd\n",
    "import matplotlib.pyplot as plt\n",
    "import seaborn as sns\n",
    "from scipy.stats import ttest_ind\n",
    "from scipy import stats\n",
    "from statsmodels.formula.api import ols\n",
    "\n",
    "import statsmodels.api as sm\n",
    "import statsmodels.formula.api as smf\n",
    "\n",
    "# 경고문 제거\n",
    "import warnings \n",
    "warnings.filterwarnings('ignore')\n",
    "\n",
    "# - 부호 깨짐 해결\n",
    "import matplotlib\n",
    "matplotlib.rcParams['axes.unicode_minus'] = False"
   ]
  },
  {
   "cell_type": "code",
   "execution_count": 538,
   "metadata": {},
   "outputs": [],
   "source": [
    "train = pd.read_csv('C:/Users/admin/Desktop/개인프로젝트/data/train_weather.csv')"
   ]
  },
  {
   "cell_type": "code",
   "execution_count": 539,
   "metadata": {},
   "outputs": [],
   "source": [
    "train = train.drop('Unnamed: 0', axis = 1)"
   ]
  },
  {
   "cell_type": "code",
   "execution_count": 540,
   "metadata": {},
   "outputs": [],
   "source": [
    "train.columns = ['date', 'week', 'mem_tot', 'mem_va', 'mem_bt', 'mem_ot', 'mem_hj', 'breakfast', 'lunch', 'dinner', 'lunch_num', 'dinner_num', 'lunch_tem', 'lunch_rain', 'lunch_snow', 'dinner_tem', 'dinner_rain','dinner_snow', 'mem_poss']"
   ]
  },
  {
   "cell_type": "code",
   "execution_count": 541,
   "metadata": {},
   "outputs": [],
   "source": [
    "train['month'] = pd.Series()\n",
    "train['day'] = pd.Series()\n",
    "for i in range(train['date'].size):\n",
    "    train['month'][i] = train['date'][i][5:7]\n",
    "    train['day'][i] = train['date'][i][8:]"
   ]
  },
  {
   "cell_type": "code",
   "execution_count": 542,
   "metadata": {},
   "outputs": [
    {
     "data": {
      "text/plain": [
       "1204"
      ]
     },
     "execution_count": 542,
     "metadata": {},
     "output_type": "execute_result"
    }
   ],
   "source": [
    "sum(train['lunch_snow'].isna())"
   ]
  },
  {
   "cell_type": "code",
   "execution_count": 543,
   "metadata": {},
   "outputs": [
    {
     "data": {
      "text/plain": [
       "1205"
      ]
     },
     "execution_count": 543,
     "metadata": {},
     "output_type": "execute_result"
    }
   ],
   "source": [
    "sum(train['dinner_snow'].isna())"
   ]
  },
  {
   "cell_type": "markdown",
   "metadata": {},
   "source": [
    "## **적설량은 제외**"
   ]
  },
  {
   "cell_type": "code",
   "execution_count": 544,
   "metadata": {},
   "outputs": [],
   "source": [
    "train = train.drop(['lunch_snow', 'dinner_snow'],axis = 1)"
   ]
  },
  {
   "cell_type": "code",
   "execution_count": 545,
   "metadata": {},
   "outputs": [],
   "source": [
    "# 기온누락 전날기온으로 대체\n",
    "train['lunch_tem'][659] = train['lunch_tem'][658]"
   ]
  },
  {
   "cell_type": "code",
   "execution_count": 546,
   "metadata": {},
   "outputs": [
    {
     "data": {
      "text/plain": [
       "1062"
      ]
     },
     "execution_count": 546,
     "metadata": {},
     "output_type": "execute_result"
    }
   ],
   "source": [
    "sum(train['lunch_rain'].isna())"
   ]
  },
  {
   "cell_type": "code",
   "execution_count": 547,
   "metadata": {},
   "outputs": [
    {
     "data": {
      "text/plain": [
       "1059"
      ]
     },
     "execution_count": 547,
     "metadata": {},
     "output_type": "execute_result"
    }
   ],
   "source": [
    "sum(train['dinner_rain'].isna())"
   ]
  },
  {
   "cell_type": "code",
   "execution_count": 548,
   "metadata": {},
   "outputs": [
    {
     "name": "stdout",
     "output_type": "stream",
     "text": [
      "    *         1 번째 0.0 204\n",
      "    *         2 번째 0.0 224\n",
      "     *        3 번째 0.0 244\n",
      "    *         4 번째 0.0 262\n",
      "    *         5 번째 0.0 281\n",
      "    *         6 번째 0.0 306\n",
      "      자기계발의날       7 번째 0.0 327\n",
      "      *자기계발의날*       8 번째 0.0 346\n",
      "      가정의날       9 번째 0.0 366\n",
      "    *         10 번째 0.0 392\n",
      "    *         11 번째 0.0 412\n",
      "    *         12 번째 0.0 424\n",
      "    *         13 번째 0.0 449\n",
      "    *         14 번째 0.0 468\n",
      "    *         15 번째 0.0 492\n",
      "    *         16 번째 0.0 510\n",
      "      *       17 번째 0.0 529\n",
      "             18 번째 0.0 549\n",
      "             19 번째 0.0 571\n",
      "      *       20 번째 448.0 586\n",
      "     *        21 번째 0.0 589\n",
      "             22 번째 0.0 609\n",
      "    *         23 번째 0.0 633\n",
      "             24 번째 0.0 648\n",
      "    자기계발의날         25 번째 0.0 667\n",
      "    *         26 번째 0.0 687\n",
      "    자기계발의날         27 번째 0.0 706\n",
      "    자기개발의날         28 번째 0.0 730\n",
      "    *  자기계발의날  *     29 번째 0.0 747\n",
      "    *  자기개발의날  *     30 번째 0.0 766\n",
      "    *  자기계발의날  *     31 번째 0.0 786\n",
      "    *  자기개발의날  *     32 번째 0.0 809\n",
      "   *  자기개발의날  *      33 번째 0.0 828\n",
      "    자기계발의날         34 번째 0.0 853\n",
      "    *         35 번째 0.0 872\n",
      "    *         36 번째 0.0 890\n",
      "    *         37 번째 0.0 912\n",
      "    *         38 번째 0.0 932\n",
      "    *         39 번째 0.0 955\n",
      "    자기개발의날         40 번째 0.0 973\n",
      "    자기개발의날         41 번째 0.0 993\n",
      " ＜자기 계발의 날＞       42 번째 0.0 1166\n"
     ]
    }
   ],
   "source": [
    "## 석식메뉴가 없는 날 중 석식계가 있는 날 발견\n",
    "c = 0\n",
    "for i in range(len(train)):\n",
    "    if len(train['dinner'][i]) < 28:\n",
    "        c = c+1\n",
    "        print(train['dinner'][i],c,'번째', train['dinner_num'][i], i)"
   ]
  },
  {
   "cell_type": "code",
   "execution_count": 549,
   "metadata": {},
   "outputs": [],
   "source": [
    "# 오기입이라 판단하여 0으로 처리\n",
    "train['dinner_num'][586] = 0"
   ]
  },
  {
   "cell_type": "code",
   "execution_count": 550,
   "metadata": {},
   "outputs": [],
   "source": [
    "# 강수량누락 0으로 대체\n",
    "train_rain0 = train.fillna(0)"
   ]
  },
  {
   "cell_type": "code",
   "execution_count": 551,
   "metadata": {},
   "outputs": [],
   "source": [
    "## 메뉴데이터 제거\n",
    "train_rain0 = train_rain0.drop(['breakfast','lunch','dinner'], axis=1)"
   ]
  },
  {
   "cell_type": "markdown",
   "metadata": {},
   "source": [
    "# ================  필수"
   ]
  },
  {
   "cell_type": "code",
   "execution_count": 552,
   "metadata": {},
   "outputs": [],
   "source": [
    "train = train_rain0.loc[train_rain0['dinner_num'] != 0] # dinner_num이 0이 아닌것 자기계발의 날떄문에"
   ]
  },
  {
   "cell_type": "code",
   "execution_count": 553,
   "metadata": {},
   "outputs": [
    {
     "data": {
      "text/html": [
       "<div>\n",
       "<style scoped>\n",
       "    .dataframe tbody tr th:only-of-type {\n",
       "        vertical-align: middle;\n",
       "    }\n",
       "\n",
       "    .dataframe tbody tr th {\n",
       "        vertical-align: top;\n",
       "    }\n",
       "\n",
       "    .dataframe thead th {\n",
       "        text-align: right;\n",
       "    }\n",
       "</style>\n",
       "<table border=\"1\" class=\"dataframe\">\n",
       "  <thead>\n",
       "    <tr style=\"text-align: right;\">\n",
       "      <th></th>\n",
       "      <th>date</th>\n",
       "      <th>week</th>\n",
       "      <th>mem_tot</th>\n",
       "      <th>mem_va</th>\n",
       "      <th>mem_bt</th>\n",
       "      <th>mem_ot</th>\n",
       "      <th>mem_hj</th>\n",
       "      <th>lunch_num</th>\n",
       "      <th>dinner_num</th>\n",
       "      <th>lunch_tem</th>\n",
       "      <th>lunch_rain</th>\n",
       "      <th>dinner_tem</th>\n",
       "      <th>dinner_rain</th>\n",
       "      <th>mem_poss</th>\n",
       "      <th>month</th>\n",
       "      <th>day</th>\n",
       "    </tr>\n",
       "  </thead>\n",
       "  <tbody>\n",
       "    <tr>\n",
       "      <td>0</td>\n",
       "      <td>2016-02-01</td>\n",
       "      <td>월</td>\n",
       "      <td>2601.0</td>\n",
       "      <td>50.0</td>\n",
       "      <td>150.0</td>\n",
       "      <td>238.0</td>\n",
       "      <td>0.0</td>\n",
       "      <td>1039.0</td>\n",
       "      <td>331.0</td>\n",
       "      <td>3.0</td>\n",
       "      <td>0.0</td>\n",
       "      <td>0.9</td>\n",
       "      <td>0.0</td>\n",
       "      <td>2401.0</td>\n",
       "      <td>2.0</td>\n",
       "      <td>1.0</td>\n",
       "    </tr>\n",
       "  </tbody>\n",
       "</table>\n",
       "</div>"
      ],
      "text/plain": [
       "         date week  mem_tot  mem_va  mem_bt  mem_ot  mem_hj  lunch_num  \\\n",
       "0  2016-02-01    월   2601.0    50.0   150.0   238.0     0.0     1039.0   \n",
       "\n",
       "   dinner_num  lunch_tem  lunch_rain  dinner_tem  dinner_rain  mem_poss  \\\n",
       "0       331.0        3.0         0.0         0.9          0.0    2401.0   \n",
       "\n",
       "   month  day  \n",
       "0    2.0  1.0  "
      ]
     },
     "execution_count": 553,
     "metadata": {},
     "output_type": "execute_result"
    }
   ],
   "source": [
    "train.head(1)"
   ]
  },
  {
   "cell_type": "markdown",
   "metadata": {},
   "source": [
    "# **휴일관련 변수 생성**"
   ]
  },
  {
   "cell_type": "code",
   "execution_count": 554,
   "metadata": {},
   "outputs": [],
   "source": [
    "# 휴일 전날(금요일 포함)\n",
    "before_holi = ['2016-02-29','2016-04-12','2016-05-04','2016-09-13','2017-01-02','2017-01-26','2017-02-28','2017-05-02','2017-05-04','2017-05-08','2017-06-05','2018-05-21','2018-06-05','2018-06-12','2018-08-14','2018-10-08','2018-12-24','2019-02-28','2019-06-05','2019-08-14','2019-09-11','2019-10-02','2019-10-08','2019-12-24','2020-01-23','2020-04-14','2020-04-29','2020-05-04','2020-10-08','2020-12-24']"
   ]
  },
  {
   "cell_type": "code",
   "execution_count": 555,
   "metadata": {},
   "outputs": [],
   "source": [
    "# 휴일 다음날(월요일 포함)\n",
    "after_holi = ['2016-02-11','2016-03-02','2016-04-14','2016-06-07','2016-08-16','2016-10-04','2016-12-26','2017-01-31','2017-03-02','2017-05-04','2017-05-10','2017-06-07','2017-08-16','2017-10-10','2017-12-26','2018-01-02','2018-03-02','2018-05-08','2018-05-23','2018-06-07','2018-06-14','2018-08-16','2018-09-27','2018-10-04','2018-10-10','2018-12-26','2019-01-02','2019-02-07','2019-05-07','2019-06-07','2019-08-16','2019-10-04','2019-10-10','2019-12-26','2020-01-02','2020-01-28','2020-04-16','2020-05-01','2020-05-06','2020-08-18']"
   ]
  },
  {
   "cell_type": "code",
   "execution_count": 556,
   "metadata": {},
   "outputs": [],
   "source": [
    "# 여름 휴가 07/27 ~ 08/17\n",
    "summer_va = ['2016-07-27',\n",
    "'2016-07-28',\n",
    "'2016-07-29',\n",
    "'2016-08-01',\n",
    "'2016-08-02',\n",
    "'2016-08-03',\n",
    "'2016-08-04',\n",
    "'2016-08-05',\n",
    "'2016-08-08',\n",
    "'2016-08-09',\n",
    "'2016-08-10',\n",
    "'2016-08-11',\n",
    "'2016-08-12',\n",
    "'2016-08-16',\n",
    "'2016-08-17',\n",
    "'2017-07-27',\n",
    "'2017-07-28',\n",
    "'2017-07-31',\n",
    "'2017-08-01',\n",
    "'2017-08-02',\n",
    "'2017-08-03',\n",
    "'2017-08-04',\n",
    "'2017-08-07',\n",
    "'2017-08-08',\n",
    "'2017-08-09',\n",
    "'2017-08-10',\n",
    "'2017-08-11',\n",
    "'2017-08-14',\n",
    "'2017-08-16',\n",
    "'2017-08-17',\n",
    "'2018-07-27',\n",
    "'2018-07-30',\n",
    "'2018-07-31',\n",
    "'2018-08-01',\n",
    "'2018-08-02',\n",
    "'2018-08-03',\n",
    "'2018-08-06',\n",
    "'2018-08-07',\n",
    "'2018-08-08',\n",
    "'2018-08-09',\n",
    "'2018-08-10',\n",
    "'2018-08-13',\n",
    "'2018-08-14',\n",
    "'2018-08-16',\n",
    "'2018-08-17',\n",
    "'2019-07-29',\n",
    "'2019-07-30',\n",
    "'2019-07-31',\n",
    "'2019-08-01',\n",
    "'2019-08-02',\n",
    "'2019-08-05',\n",
    "'2019-08-06',\n",
    "'2019-08-07',\n",
    "'2019-08-08',\n",
    "'2019-08-09',\n",
    "'2019-08-12',\n",
    "'2019-08-13',\n",
    "'2019-08-14',\n",
    "'2019-08-16',\n",
    "'2020-07-27',\n",
    "'2020-07-28',\n",
    "'2020-07-29',\n",
    "'2020-07-30',\n",
    "'2020-07-31',\n",
    "'2020-08-03',\n",
    "'2020-08-04',\n",
    "'2020-08-05',\n",
    "'2020-08-06',\n",
    "'2020-08-07',\n",
    "'2020-08-10',\n",
    "'2020-08-11',\n",
    "'2020-08-12',\n",
    "'2020-08-13',\n",
    "'2020-08-14'\n",
    "]"
   ]
  },
  {
   "cell_type": "code",
   "execution_count": 557,
   "metadata": {},
   "outputs": [],
   "source": [
    "# 연말 12/22 ~ 12/31\n",
    "end_year = [\n",
    "'2016-12-22',\n",
    "'2016-12-23',\n",
    "'2016-12-26',\n",
    "'2016-12-27',\n",
    "'2016-12-28',\n",
    "'2016-12-29',\n",
    "'2016-12-30',\n",
    "'2017-12-22',\n",
    "'2017-12-26',\n",
    "'2017-12-27',\n",
    "'2017-12-28',\n",
    "'2017-12-29',\n",
    "'2018-12-24',\n",
    "'2018-12-26',\n",
    "'2018-12-27',\n",
    "'2018-12-28',\n",
    "'2018-12-31',\n",
    "'2019-12-23',\n",
    "'2019-12-24',\n",
    "'2019-12-26',\n",
    "'2019-12-27',\n",
    "'2019-12-30',\n",
    "'2019-12-31',\n",
    "'2020-12-22',\n",
    "'2020-12-23',\n",
    "'2020-12-24',\n",
    "'2020-12-28',\n",
    "'2020-12-29',\n",
    "'2020-12-30',\n",
    "'2020-12-31'\n",
    "]"
   ]
  },
  {
   "cell_type": "code",
   "execution_count": 558,
   "metadata": {},
   "outputs": [],
   "source": [
    "# 휴일전날\n",
    "holi_be = pd.DataFrame(before_holi)\n",
    "holi_be['holi_be'] = 1\n",
    "holi_be.columns = ['date','holi_be']\n",
    "train = pd.merge(train, holi_be, on = 'date',how = 'outer').dropna(thresh = 9)"
   ]
  },
  {
   "cell_type": "code",
   "execution_count": 559,
   "metadata": {},
   "outputs": [],
   "source": [
    "# 휴일 다음날\n",
    "holi_af = pd.DataFrame(after_holi)\n",
    "holi_af['holi_af'] = 1\n",
    "holi_af.columns = ['date','holi_af']\n",
    "train = pd.merge(train, holi_af, on = 'date',how = 'outer').dropna(thresh = 9)"
   ]
  },
  {
   "cell_type": "code",
   "execution_count": 560,
   "metadata": {},
   "outputs": [],
   "source": [
    "# 여름휴가\n",
    "summer = pd.DataFrame(summer_va)\n",
    "summer['summer1'] = 1\n",
    "summer.columns = ['date','summer1']\n",
    "train = pd.merge(train, summer, on = 'date', how = 'outer').dropna(thresh = 9)"
   ]
  },
  {
   "cell_type": "code",
   "execution_count": 561,
   "metadata": {},
   "outputs": [],
   "source": [
    "# 연말\n",
    "year_end = pd.DataFrame(end_year)\n",
    "year_end['year_end'] = 1\n",
    "year_end.columns = ['date','year_end']\n",
    "train = pd.merge(train, year_end, on = 'date', how = 'outer').dropna(thresh = 9)"
   ]
  },
  {
   "cell_type": "code",
   "execution_count": 562,
   "metadata": {},
   "outputs": [],
   "source": [
    "# 휴일 다음날 (월요일포함)\n",
    "train.loc[(train['week'] == '월'), 'holi_af'] = 1"
   ]
  },
  {
   "cell_type": "code",
   "execution_count": 563,
   "metadata": {},
   "outputs": [],
   "source": [
    "# 휴일 전날 (금요일포함)\n",
    "train.loc[(train['week'] == '금'), 'holi_be'] = 1"
   ]
  },
  {
   "cell_type": "code",
   "execution_count": 564,
   "metadata": {},
   "outputs": [],
   "source": [
    "# NaN --> 0으로 대체\n",
    "train = train.fillna(0)"
   ]
  },
  {
   "cell_type": "code",
   "execution_count": 565,
   "metadata": {},
   "outputs": [
    {
     "data": {
      "text/html": [
       "<div>\n",
       "<style scoped>\n",
       "    .dataframe tbody tr th:only-of-type {\n",
       "        vertical-align: middle;\n",
       "    }\n",
       "\n",
       "    .dataframe tbody tr th {\n",
       "        vertical-align: top;\n",
       "    }\n",
       "\n",
       "    .dataframe thead th {\n",
       "        text-align: right;\n",
       "    }\n",
       "</style>\n",
       "<table border=\"1\" class=\"dataframe\">\n",
       "  <thead>\n",
       "    <tr style=\"text-align: right;\">\n",
       "      <th></th>\n",
       "      <th>date</th>\n",
       "      <th>week</th>\n",
       "      <th>mem_tot</th>\n",
       "      <th>mem_va</th>\n",
       "      <th>mem_bt</th>\n",
       "      <th>mem_ot</th>\n",
       "      <th>mem_hj</th>\n",
       "      <th>lunch_num</th>\n",
       "      <th>dinner_num</th>\n",
       "      <th>lunch_tem</th>\n",
       "      <th>lunch_rain</th>\n",
       "      <th>dinner_tem</th>\n",
       "      <th>dinner_rain</th>\n",
       "      <th>mem_poss</th>\n",
       "      <th>month</th>\n",
       "      <th>day</th>\n",
       "      <th>holi_be</th>\n",
       "      <th>holi_af</th>\n",
       "      <th>summer1</th>\n",
       "      <th>year_end</th>\n",
       "    </tr>\n",
       "  </thead>\n",
       "  <tbody>\n",
       "    <tr>\n",
       "      <td>0</td>\n",
       "      <td>2016-02-01</td>\n",
       "      <td>월</td>\n",
       "      <td>2601.0</td>\n",
       "      <td>50.0</td>\n",
       "      <td>150.0</td>\n",
       "      <td>238.0</td>\n",
       "      <td>0.0</td>\n",
       "      <td>1039.0</td>\n",
       "      <td>331.0</td>\n",
       "      <td>3.0</td>\n",
       "      <td>0.0</td>\n",
       "      <td>0.9</td>\n",
       "      <td>0.0</td>\n",
       "      <td>2401.0</td>\n",
       "      <td>2.0</td>\n",
       "      <td>1.0</td>\n",
       "      <td>0.0</td>\n",
       "      <td>1.0</td>\n",
       "      <td>0.0</td>\n",
       "      <td>0.0</td>\n",
       "    </tr>\n",
       "  </tbody>\n",
       "</table>\n",
       "</div>"
      ],
      "text/plain": [
       "         date week  mem_tot  mem_va  mem_bt  mem_ot  mem_hj  lunch_num  \\\n",
       "0  2016-02-01    월   2601.0    50.0   150.0   238.0     0.0     1039.0   \n",
       "\n",
       "   dinner_num  lunch_tem  lunch_rain  dinner_tem  dinner_rain  mem_poss  \\\n",
       "0       331.0        3.0         0.0         0.9          0.0    2401.0   \n",
       "\n",
       "   month  day  holi_be  holi_af  summer1  year_end  \n",
       "0    2.0  1.0      0.0      1.0      0.0       0.0  "
      ]
     },
     "execution_count": 565,
     "metadata": {},
     "output_type": "execute_result"
    }
   ],
   "source": [
    "train.head(1)"
   ]
  },
  {
   "cell_type": "code",
   "execution_count": 566,
   "metadata": {},
   "outputs": [
    {
     "data": {
      "text/html": [
       "<div>\n",
       "<style scoped>\n",
       "    .dataframe tbody tr th:only-of-type {\n",
       "        vertical-align: middle;\n",
       "    }\n",
       "\n",
       "    .dataframe tbody tr th {\n",
       "        vertical-align: top;\n",
       "    }\n",
       "\n",
       "    .dataframe thead th {\n",
       "        text-align: right;\n",
       "    }\n",
       "</style>\n",
       "<table border=\"1\" class=\"dataframe\">\n",
       "  <thead>\n",
       "    <tr style=\"text-align: right;\">\n",
       "      <th></th>\n",
       "      <th>date</th>\n",
       "      <th>week</th>\n",
       "      <th>mem_tot</th>\n",
       "      <th>mem_va</th>\n",
       "      <th>mem_bt</th>\n",
       "      <th>mem_ot</th>\n",
       "      <th>mem_hj</th>\n",
       "      <th>lunch_num</th>\n",
       "      <th>dinner_num</th>\n",
       "      <th>lunch_tem</th>\n",
       "      <th>lunch_rain</th>\n",
       "      <th>dinner_tem</th>\n",
       "      <th>dinner_rain</th>\n",
       "      <th>mem_poss</th>\n",
       "      <th>month</th>\n",
       "      <th>day</th>\n",
       "      <th>holi_be</th>\n",
       "      <th>holi_af</th>\n",
       "      <th>summer1</th>\n",
       "      <th>year_end</th>\n",
       "    </tr>\n",
       "  </thead>\n",
       "  <tbody>\n",
       "    <tr>\n",
       "      <td>0</td>\n",
       "      <td>2016-02-01</td>\n",
       "      <td>월</td>\n",
       "      <td>2601.0</td>\n",
       "      <td>50.0</td>\n",
       "      <td>150.0</td>\n",
       "      <td>238.0</td>\n",
       "      <td>0.0</td>\n",
       "      <td>1039.0</td>\n",
       "      <td>331.0</td>\n",
       "      <td>3.0</td>\n",
       "      <td>0.0</td>\n",
       "      <td>0.9</td>\n",
       "      <td>0.0</td>\n",
       "      <td>2401.0</td>\n",
       "      <td>2.0</td>\n",
       "      <td>1.0</td>\n",
       "      <td>0.0</td>\n",
       "      <td>1.0</td>\n",
       "      <td>0.0</td>\n",
       "      <td>0.0</td>\n",
       "    </tr>\n",
       "    <tr>\n",
       "      <td>1</td>\n",
       "      <td>2016-02-02</td>\n",
       "      <td>화</td>\n",
       "      <td>2601.0</td>\n",
       "      <td>50.0</td>\n",
       "      <td>173.0</td>\n",
       "      <td>319.0</td>\n",
       "      <td>0.0</td>\n",
       "      <td>867.0</td>\n",
       "      <td>560.0</td>\n",
       "      <td>1.7</td>\n",
       "      <td>0.0</td>\n",
       "      <td>2.4</td>\n",
       "      <td>0.0</td>\n",
       "      <td>2378.0</td>\n",
       "      <td>2.0</td>\n",
       "      <td>2.0</td>\n",
       "      <td>0.0</td>\n",
       "      <td>0.0</td>\n",
       "      <td>0.0</td>\n",
       "      <td>0.0</td>\n",
       "    </tr>\n",
       "    <tr>\n",
       "      <td>2</td>\n",
       "      <td>2016-02-03</td>\n",
       "      <td>수</td>\n",
       "      <td>2601.0</td>\n",
       "      <td>56.0</td>\n",
       "      <td>180.0</td>\n",
       "      <td>111.0</td>\n",
       "      <td>0.0</td>\n",
       "      <td>1017.0</td>\n",
       "      <td>573.0</td>\n",
       "      <td>3.2</td>\n",
       "      <td>0.0</td>\n",
       "      <td>3.0</td>\n",
       "      <td>0.0</td>\n",
       "      <td>2365.0</td>\n",
       "      <td>2.0</td>\n",
       "      <td>3.0</td>\n",
       "      <td>0.0</td>\n",
       "      <td>0.0</td>\n",
       "      <td>0.0</td>\n",
       "      <td>0.0</td>\n",
       "    </tr>\n",
       "    <tr>\n",
       "      <td>3</td>\n",
       "      <td>2016-02-04</td>\n",
       "      <td>목</td>\n",
       "      <td>2601.0</td>\n",
       "      <td>104.0</td>\n",
       "      <td>220.0</td>\n",
       "      <td>355.0</td>\n",
       "      <td>0.0</td>\n",
       "      <td>978.0</td>\n",
       "      <td>525.0</td>\n",
       "      <td>3.7</td>\n",
       "      <td>0.0</td>\n",
       "      <td>4.0</td>\n",
       "      <td>0.0</td>\n",
       "      <td>2277.0</td>\n",
       "      <td>2.0</td>\n",
       "      <td>4.0</td>\n",
       "      <td>0.0</td>\n",
       "      <td>0.0</td>\n",
       "      <td>0.0</td>\n",
       "      <td>0.0</td>\n",
       "    </tr>\n",
       "    <tr>\n",
       "      <td>4</td>\n",
       "      <td>2016-02-05</td>\n",
       "      <td>금</td>\n",
       "      <td>2601.0</td>\n",
       "      <td>278.0</td>\n",
       "      <td>181.0</td>\n",
       "      <td>34.0</td>\n",
       "      <td>0.0</td>\n",
       "      <td>925.0</td>\n",
       "      <td>330.0</td>\n",
       "      <td>6.3</td>\n",
       "      <td>0.0</td>\n",
       "      <td>5.7</td>\n",
       "      <td>0.0</td>\n",
       "      <td>2142.0</td>\n",
       "      <td>2.0</td>\n",
       "      <td>5.0</td>\n",
       "      <td>1.0</td>\n",
       "      <td>0.0</td>\n",
       "      <td>0.0</td>\n",
       "      <td>0.0</td>\n",
       "    </tr>\n",
       "  </tbody>\n",
       "</table>\n",
       "</div>"
      ],
      "text/plain": [
       "         date week  mem_tot  mem_va  mem_bt  mem_ot  mem_hj  lunch_num  \\\n",
       "0  2016-02-01    월   2601.0    50.0   150.0   238.0     0.0     1039.0   \n",
       "1  2016-02-02    화   2601.0    50.0   173.0   319.0     0.0      867.0   \n",
       "2  2016-02-03    수   2601.0    56.0   180.0   111.0     0.0     1017.0   \n",
       "3  2016-02-04    목   2601.0   104.0   220.0   355.0     0.0      978.0   \n",
       "4  2016-02-05    금   2601.0   278.0   181.0    34.0     0.0      925.0   \n",
       "\n",
       "   dinner_num  lunch_tem  lunch_rain  dinner_tem  dinner_rain  mem_poss  \\\n",
       "0       331.0        3.0         0.0         0.9          0.0    2401.0   \n",
       "1       560.0        1.7         0.0         2.4          0.0    2378.0   \n",
       "2       573.0        3.2         0.0         3.0          0.0    2365.0   \n",
       "3       525.0        3.7         0.0         4.0          0.0    2277.0   \n",
       "4       330.0        6.3         0.0         5.7          0.0    2142.0   \n",
       "\n",
       "   month  day  holi_be  holi_af  summer1  year_end  \n",
       "0    2.0  1.0      0.0      1.0      0.0       0.0  \n",
       "1    2.0  2.0      0.0      0.0      0.0       0.0  \n",
       "2    2.0  3.0      0.0      0.0      0.0       0.0  \n",
       "3    2.0  4.0      0.0      0.0      0.0       0.0  \n",
       "4    2.0  5.0      1.0      0.0      0.0       0.0  "
      ]
     },
     "execution_count": 566,
     "metadata": {},
     "output_type": "execute_result"
    }
   ],
   "source": [
    "train.head()"
   ]
  },
  {
   "cell_type": "markdown",
   "metadata": {},
   "source": [
    "# ================================= **데이터프레임**"
   ]
  },
  {
   "cell_type": "code",
   "execution_count": 567,
   "metadata": {},
   "outputs": [
    {
     "data": {
      "text/plain": [
       "<matplotlib.axes._subplots.AxesSubplot at 0x21b8a3ce748>"
      ]
     },
     "execution_count": 567,
     "metadata": {},
     "output_type": "execute_result"
    },
    {
     "data": {
      "image/png": "[encoded data removed]",
      "text/plain": [
       "<Figure size 1440x792 with 6 Axes>"
      ]
     },
     "metadata": {
      "needs_background": "light"
     },
     "output_type": "display_data"
    }
   ],
   "source": [
    "## boxplot\n",
    "\n",
    "figure, ((ax1, ax2) ,(ax3, ax4), (ax5, ax6)) = plt.subplots(nrows = 3, ncols = 2)\n",
    "figure.set_size_inches(20, 11)\n",
    "\n",
    "sns.boxplot(x = 'mem_tot', data = train, ax = ax1, color = 'B')\n",
    "sns.boxplot(x = 'mem_va', data = train, ax = ax2, color = 'R')\n",
    "sns.boxplot(x = 'mem_ot', data = train, ax = ax3, color = 'Y')\n",
    "sns.boxplot(x = 'mem_poss', data = train, ax = ax4, color = 'G')\n",
    "sns.boxplot(x = 'lunch_tem', data = train, ax = ax5, color = 'C')\n",
    "sns.boxplot(x = 'dinner_tem', data = train, ax = ax6)"
   ]
  },
  {
   "cell_type": "code",
   "execution_count": 568,
   "metadata": {},
   "outputs": [
    {
     "data": {
      "text/plain": [
       "<matplotlib.axes._subplots.AxesSubplot at 0x21b8a8f8948>"
      ]
     },
     "execution_count": 568,
     "metadata": {},
     "output_type": "execute_result"
    },
    {
     "data": {
      "image/png": "[encoded data removed]",
      "text/plain": [
       "<Figure size 1296x576 with 4 Axes>"
      ]
     },
     "metadata": {
      "needs_background": "light"
     },
     "output_type": "display_data"
    }
   ],
   "source": [
    "## barplot\n",
    "\n",
    "figure, ((ax1, ax2), (ax3, ax4)) = plt.subplots(nrows = 2, ncols = 2)\n",
    "figure.set_size_inches(18,8)\n",
    "\n",
    "sns.barplot(x = 'month', y = 'lunch_num', data = train, ax = ax1)\n",
    "sns.barplot(x = 'day', y = 'lunch_num', data = train, ax = ax2)\n",
    "sns.barplot(x = 'month', y = 'dinner_num', data = train, ax = ax3)\n",
    "sns.barplot(x = 'day', y = 'dinner_num', data = train, ax = ax4)"
   ]
  },
  {
   "cell_type": "code",
   "execution_count": 569,
   "metadata": {},
   "outputs": [
    {
     "data": {
      "text/plain": [
       "Index(['date', 'week', 'mem_tot', 'mem_va', 'mem_bt', 'mem_ot', 'mem_hj',\n",
       "       'lunch_num', 'dinner_num', 'lunch_tem', 'lunch_rain', 'dinner_tem',\n",
       "       'dinner_rain', 'mem_poss', 'month', 'day', 'holi_be', 'holi_af',\n",
       "       'summer1', 'year_end'],\n",
       "      dtype='object')"
      ]
     },
     "execution_count": 569,
     "metadata": {},
     "output_type": "execute_result"
    }
   ],
   "source": [
    "train.columns"
   ]
  },
  {
   "cell_type": "code",
   "execution_count": 570,
   "metadata": {},
   "outputs": [
    {
     "ename": "IndexError",
     "evalue": "positional indexers are out-of-bounds",
     "output_type": "error",
     "traceback": [
      "\u001b[1;31m---------------------------------------------------------------------------\u001b[0m",
      "\u001b[1;31mIndexError\u001b[0m                                Traceback (most recent call last)",
      "\u001b[1;32m<ipython-input-570-b393e2b3c7ab>\u001b[0m in \u001b[0;36m<module>\u001b[1;34m\u001b[0m\n\u001b[1;32m----> 1\u001b[1;33m \u001b[0mcorr\u001b[0m \u001b[1;33m=\u001b[0m \u001b[0mtrain\u001b[0m\u001b[1;33m.\u001b[0m\u001b[0miloc\u001b[0m\u001b[1;33m[\u001b[0m\u001b[1;33m:\u001b[0m\u001b[1;33m,\u001b[0m\u001b[1;33m[\u001b[0m\u001b[1;36m14\u001b[0m\u001b[1;33m,\u001b[0m\u001b[1;36m15\u001b[0m\u001b[1;33m,\u001b[0m\u001b[1;36m2\u001b[0m\u001b[1;33m,\u001b[0m\u001b[1;36m3\u001b[0m\u001b[1;33m,\u001b[0m\u001b[1;36m4\u001b[0m\u001b[1;33m,\u001b[0m\u001b[1;36m5\u001b[0m\u001b[1;33m,\u001b[0m\u001b[1;36m6\u001b[0m\u001b[1;33m,\u001b[0m\u001b[1;36m9\u001b[0m\u001b[1;33m,\u001b[0m\u001b[1;36m10\u001b[0m\u001b[1;33m,\u001b[0m\u001b[1;36m11\u001b[0m\u001b[1;33m,\u001b[0m\u001b[1;36m12\u001b[0m\u001b[1;33m,\u001b[0m\u001b[1;36m13\u001b[0m\u001b[1;33m,\u001b[0m\u001b[1;36m18\u001b[0m\u001b[1;33m,\u001b[0m\u001b[1;36m19\u001b[0m\u001b[1;33m,\u001b[0m\u001b[1;36m20\u001b[0m\u001b[1;33m,\u001b[0m\u001b[1;36m21\u001b[0m\u001b[1;33m,\u001b[0m\u001b[1;36m7\u001b[0m\u001b[1;33m,\u001b[0m\u001b[1;36m8\u001b[0m\u001b[1;33m]\u001b[0m\u001b[1;33m]\u001b[0m\u001b[1;33m.\u001b[0m\u001b[0mcorr\u001b[0m\u001b[1;33m(\u001b[0m\u001b[1;33m)\u001b[0m\u001b[1;33m\u001b[0m\u001b[1;33m\u001b[0m\u001b[0m\n\u001b[0m\u001b[0;32m      2\u001b[0m \u001b[1;33m\u001b[0m\u001b[0m\n\u001b[0;32m      3\u001b[0m \u001b[0mmask\u001b[0m \u001b[1;33m=\u001b[0m \u001b[0mnp\u001b[0m\u001b[1;33m.\u001b[0m\u001b[0mzeros_like\u001b[0m\u001b[1;33m(\u001b[0m\u001b[0mcorr\u001b[0m\u001b[1;33m,\u001b[0m \u001b[0mdtype\u001b[0m \u001b[1;33m=\u001b[0m \u001b[0mnp\u001b[0m\u001b[1;33m.\u001b[0m\u001b[0mbool\u001b[0m\u001b[1;33m)\u001b[0m\u001b[1;33m\u001b[0m\u001b[1;33m\u001b[0m\u001b[0m\n\u001b[0;32m      4\u001b[0m \u001b[0mmask\u001b[0m\u001b[1;33m[\u001b[0m\u001b[0mnp\u001b[0m\u001b[1;33m.\u001b[0m\u001b[0mtriu_indices_from\u001b[0m\u001b[1;33m(\u001b[0m\u001b[0mmask\u001b[0m\u001b[1;33m)\u001b[0m\u001b[1;33m]\u001b[0m \u001b[1;33m=\u001b[0m \u001b[1;32mTrue\u001b[0m\u001b[1;33m\u001b[0m\u001b[1;33m\u001b[0m\u001b[0m\n\u001b[0;32m      5\u001b[0m \u001b[1;33m\u001b[0m\u001b[0m\n",
      "\u001b[1;32m~\\Anaconda3\\lib\\site-packages\\pandas\\core\\indexing.py\u001b[0m in \u001b[0;36m__getitem__\u001b[1;34m(self, key)\u001b[0m\n\u001b[0;32m   1416\u001b[0m                 \u001b[1;32mexcept\u001b[0m \u001b[1;33m(\u001b[0m\u001b[0mKeyError\u001b[0m\u001b[1;33m,\u001b[0m \u001b[0mIndexError\u001b[0m\u001b[1;33m,\u001b[0m \u001b[0mAttributeError\u001b[0m\u001b[1;33m)\u001b[0m\u001b[1;33m:\u001b[0m\u001b[1;33m\u001b[0m\u001b[1;33m\u001b[0m\u001b[0m\n\u001b[0;32m   1417\u001b[0m                     \u001b[1;32mpass\u001b[0m\u001b[1;33m\u001b[0m\u001b[1;33m\u001b[0m\u001b[0m\n\u001b[1;32m-> 1418\u001b[1;33m             \u001b[1;32mreturn\u001b[0m \u001b[0mself\u001b[0m\u001b[1;33m.\u001b[0m\u001b[0m_getitem_tuple\u001b[0m\u001b[1;33m(\u001b[0m\u001b[0mkey\u001b[0m\u001b[1;33m)\u001b[0m\u001b[1;33m\u001b[0m\u001b[1;33m\u001b[0m\u001b[0m\n\u001b[0m\u001b[0;32m   1419\u001b[0m         \u001b[1;32melse\u001b[0m\u001b[1;33m:\u001b[0m\u001b[1;33m\u001b[0m\u001b[1;33m\u001b[0m\u001b[0m\n\u001b[0;32m   1420\u001b[0m             \u001b[1;31m# we by definition only have the 0th axis\u001b[0m\u001b[1;33m\u001b[0m\u001b[1;33m\u001b[0m\u001b[1;33m\u001b[0m\u001b[0m\n",
      "\u001b[1;32m~\\Anaconda3\\lib\\site-packages\\pandas\\core\\indexing.py\u001b[0m in \u001b[0;36m_getitem_tuple\u001b[1;34m(self, tup)\u001b[0m\n\u001b[0;32m   2090\u001b[0m     \u001b[1;32mdef\u001b[0m \u001b[0m_getitem_tuple\u001b[0m\u001b[1;33m(\u001b[0m\u001b[0mself\u001b[0m\u001b[1;33m,\u001b[0m \u001b[0mtup\u001b[0m\u001b[1;33m)\u001b[0m\u001b[1;33m:\u001b[0m\u001b[1;33m\u001b[0m\u001b[1;33m\u001b[0m\u001b[0m\n\u001b[0;32m   2091\u001b[0m \u001b[1;33m\u001b[0m\u001b[0m\n\u001b[1;32m-> 2092\u001b[1;33m         \u001b[0mself\u001b[0m\u001b[1;33m.\u001b[0m\u001b[0m_has_valid_tuple\u001b[0m\u001b[1;33m(\u001b[0m\u001b[0mtup\u001b[0m\u001b[1;33m)\u001b[0m\u001b[1;33m\u001b[0m\u001b[1;33m\u001b[0m\u001b[0m\n\u001b[0m\u001b[0;32m   2093\u001b[0m         \u001b[1;32mtry\u001b[0m\u001b[1;33m:\u001b[0m\u001b[1;33m\u001b[0m\u001b[1;33m\u001b[0m\u001b[0m\n\u001b[0;32m   2094\u001b[0m             \u001b[1;32mreturn\u001b[0m \u001b[0mself\u001b[0m\u001b[1;33m.\u001b[0m\u001b[0m_getitem_lowerdim\u001b[0m\u001b[1;33m(\u001b[0m\u001b[0mtup\u001b[0m\u001b[1;33m)\u001b[0m\u001b[1;33m\u001b[0m\u001b[1;33m\u001b[0m\u001b[0m\n",
      "\u001b[1;32m~\\Anaconda3\\lib\\site-packages\\pandas\\core\\indexing.py\u001b[0m in \u001b[0;36m_has_valid_tuple\u001b[1;34m(self, key)\u001b[0m\n\u001b[0;32m    233\u001b[0m                 \u001b[1;32mraise\u001b[0m \u001b[0mIndexingError\u001b[0m\u001b[1;33m(\u001b[0m\u001b[1;34m\"Too many indexers\"\u001b[0m\u001b[1;33m)\u001b[0m\u001b[1;33m\u001b[0m\u001b[1;33m\u001b[0m\u001b[0m\n\u001b[0;32m    234\u001b[0m             \u001b[1;32mtry\u001b[0m\u001b[1;33m:\u001b[0m\u001b[1;33m\u001b[0m\u001b[1;33m\u001b[0m\u001b[0m\n\u001b[1;32m--> 235\u001b[1;33m                 \u001b[0mself\u001b[0m\u001b[1;33m.\u001b[0m\u001b[0m_validate_key\u001b[0m\u001b[1;33m(\u001b[0m\u001b[0mk\u001b[0m\u001b[1;33m,\u001b[0m \u001b[0mi\u001b[0m\u001b[1;33m)\u001b[0m\u001b[1;33m\u001b[0m\u001b[1;33m\u001b[0m\u001b[0m\n\u001b[0m\u001b[0;32m    236\u001b[0m             \u001b[1;32mexcept\u001b[0m \u001b[0mValueError\u001b[0m\u001b[1;33m:\u001b[0m\u001b[1;33m\u001b[0m\u001b[1;33m\u001b[0m\u001b[0m\n\u001b[0;32m    237\u001b[0m                 raise ValueError(\n",
      "\u001b[1;32m~\\Anaconda3\\lib\\site-packages\\pandas\\core\\indexing.py\u001b[0m in \u001b[0;36m_validate_key\u001b[1;34m(self, key, axis)\u001b[0m\n\u001b[0;32m   2029\u001b[0m             \u001b[1;31m# check that the key does not exceed the maximum size of the index\u001b[0m\u001b[1;33m\u001b[0m\u001b[1;33m\u001b[0m\u001b[1;33m\u001b[0m\u001b[0m\n\u001b[0;32m   2030\u001b[0m             \u001b[1;32mif\u001b[0m \u001b[0mlen\u001b[0m\u001b[1;33m(\u001b[0m\u001b[0marr\u001b[0m\u001b[1;33m)\u001b[0m \u001b[1;32mand\u001b[0m \u001b[1;33m(\u001b[0m\u001b[0marr\u001b[0m\u001b[1;33m.\u001b[0m\u001b[0mmax\u001b[0m\u001b[1;33m(\u001b[0m\u001b[1;33m)\u001b[0m \u001b[1;33m>=\u001b[0m \u001b[0mlen_axis\u001b[0m \u001b[1;32mor\u001b[0m \u001b[0marr\u001b[0m\u001b[1;33m.\u001b[0m\u001b[0mmin\u001b[0m\u001b[1;33m(\u001b[0m\u001b[1;33m)\u001b[0m \u001b[1;33m<\u001b[0m \u001b[1;33m-\u001b[0m\u001b[0mlen_axis\u001b[0m\u001b[1;33m)\u001b[0m\u001b[1;33m:\u001b[0m\u001b[1;33m\u001b[0m\u001b[1;33m\u001b[0m\u001b[0m\n\u001b[1;32m-> 2031\u001b[1;33m                 \u001b[1;32mraise\u001b[0m \u001b[0mIndexError\u001b[0m\u001b[1;33m(\u001b[0m\u001b[1;34m\"positional indexers are out-of-bounds\"\u001b[0m\u001b[1;33m)\u001b[0m\u001b[1;33m\u001b[0m\u001b[1;33m\u001b[0m\u001b[0m\n\u001b[0m\u001b[0;32m   2032\u001b[0m         \u001b[1;32melse\u001b[0m\u001b[1;33m:\u001b[0m\u001b[1;33m\u001b[0m\u001b[1;33m\u001b[0m\u001b[0m\n\u001b[0;32m   2033\u001b[0m             raise ValueError(\n",
      "\u001b[1;31mIndexError\u001b[0m: positional indexers are out-of-bounds"
     ]
    }
   ],
   "source": [
    "corr = train.iloc[:,[14,15,2,3,4,5,6,9,10,11,12,13,18,19,20,21,7,8]].corr()\n",
    "\n",
    "mask = np.zeros_like(corr, dtype = np.bool)\n",
    "mask[np.triu_indices_from(mask)] = True\n",
    "\n",
    "f, ax = plt.subplots(figsize = (15, 11))\n",
    "\n",
    "cmap = sns.diverging_palette(220, 10, as_cmap = True)\n",
    "\n",
    "sns.heatmap(corr, mask = mask, cmap = cmap, center = 0,\n",
    "           square = True, linewidths = 0.5, cbar_kws = {'shrink' : 0.5}, annot = True)"
   ]
  },
  {
   "cell_type": "markdown",
   "metadata": {},
   "source": [
    "# ======================================  \n",
    "# **가설 1번 강수 여부에 따라 식수인원에 차이가 있다**  \n",
    "# **-완**\n",
    "### **점심에 비 여부에 따라 식수인원 차이 검정**"
   ]
  },
  {
   "cell_type": "code",
   "execution_count": null,
   "metadata": {},
   "outputs": [],
   "source": [
    "# 점심에 비가온날\n",
    "yeslunch_rain = train.loc[train['lunch_rain'] != 0]\n",
    "# 점심에 비가오지않은날\n",
    "nolunch_rain = train.loc[train['lunch_rain'] == 0]"
   ]
  },
  {
   "cell_type": "code",
   "execution_count": null,
   "metadata": {},
   "outputs": [],
   "source": [
    "fig1, ax1 = plt.subplots(nrows = 1, ncols = 1 , figsize = (8,5))\n",
    "ax1.boxplot([yeslunch_rain['lunch_num'], nolunch_rain['lunch_num']])\n",
    "ax1.set_xticklabels(['lunch_rain_yes','lunch_rain_no'])"
   ]
  },
  {
   "cell_type": "code",
   "execution_count": null,
   "metadata": {},
   "outputs": [],
   "source": [
    "# 귀무가설 : 두집단 분포 동일하다\n",
    "stats.levene(yeslunch_rain['lunch_num'],nolunch_rain['lunch_num'])"
   ]
  },
  {
   "cell_type": "code",
   "execution_count": null,
   "metadata": {},
   "outputs": [],
   "source": [
    "ttest_ind(yeslunch_rain['lunch_num'], nolunch_rain['lunch_num'], equal_var=True)"
   ]
  },
  {
   "cell_type": "markdown",
   "metadata": {},
   "source": [
    "#### **점심에 강수여부에 따라 점심 식수인원에 유의미한 차이가 있다**"
   ]
  },
  {
   "cell_type": "markdown",
   "metadata": {},
   "source": [
    "### **저녁에 비 여부에 따라 식수인원 차이 검정**"
   ]
  },
  {
   "cell_type": "code",
   "execution_count": null,
   "metadata": {},
   "outputs": [],
   "source": [
    "# 저녁에 비가온날\n",
    "yesdinner_rain = train.loc[train['dinner_rain'] != 0]\n",
    "# 저녁에 비가오지않은날\n",
    "nodinner_rain = train.loc[train['dinner_rain'] == 0]"
   ]
  },
  {
   "cell_type": "code",
   "execution_count": null,
   "metadata": {},
   "outputs": [],
   "source": [
    "fig2, ax2 = plt.subplots(nrows = 1, ncols = 1 , figsize = (8,5))\n",
    "ax2.boxplot([yesdinner_rain['dinner_num'], nodinner_rain['dinner_num']])\n",
    "ax2.set_xticklabels(['dinner_rain_yes','dinner_rain_no'])"
   ]
  },
  {
   "cell_type": "code",
   "execution_count": null,
   "metadata": {},
   "outputs": [],
   "source": [
    "stats.levene(yesdinner_rain['dinner_num'],nodinner_rain['dinner_num'])"
   ]
  },
  {
   "cell_type": "code",
   "execution_count": 571,
   "metadata": {},
   "outputs": [
    {
     "data": {
      "text/plain": [
       "Ttest_indResult(statistic=0.24314469394312666, pvalue=0.8079363339956721)"
      ]
     },
     "execution_count": 571,
     "metadata": {},
     "output_type": "execute_result"
    }
   ],
   "source": [
    "ttest_ind(yesdinner_rain['dinner_num'], nodinner_rain['dinner_num'], equal_var=True)"
   ]
  },
  {
   "cell_type": "markdown",
   "metadata": {},
   "source": [
    "#### **저녁에 강수여부에 따라 저녁 식수인원에 유의미한 차이가 없다.**"
   ]
  },
  {
   "cell_type": "markdown",
   "metadata": {},
   "source": [
    "# ==============================================  \n",
    "# **가설 2번  온도에 따라 식수인원에 차이가 있다**  \n",
    "# **-완**"
   ]
  },
  {
   "cell_type": "code",
   "execution_count": 572,
   "metadata": {},
   "outputs": [
    {
     "data": {
      "text/plain": [
       "<matplotlib.axes._subplots.AxesSubplot at 0x21b8a280308>"
      ]
     },
     "execution_count": 572,
     "metadata": {},
     "output_type": "execute_result"
    },
    {
     "data": {
      "image/png": "[encoded data removed]",
      "text/plain": [
       "<Figure size 432x288 with 1 Axes>"
      ]
     },
     "metadata": {
      "needs_background": "light"
     },
     "output_type": "display_data"
    }
   ],
   "source": [
    "sns.distplot(train['lunch_tem'])"
   ]
  },
  {
   "cell_type": "code",
   "execution_count": 573,
   "metadata": {},
   "outputs": [
    {
     "data": {
      "text/plain": [
       "<matplotlib.axes._subplots.AxesSubplot at 0x21b8a688b88>"
      ]
     },
     "execution_count": 573,
     "metadata": {},
     "output_type": "execute_result"
    },
    {
     "data": {
      "image/png": "[encoded data removed]",
      "text/plain": [
       "<Figure size 432x288 with 1 Axes>"
      ]
     },
     "metadata": {
      "needs_background": "light"
     },
     "output_type": "display_data"
    }
   ],
   "source": [
    "sns.distplot(train['dinner_tem'])"
   ]
  },
  {
   "cell_type": "markdown",
   "metadata": {},
   "source": [
    "## **점심 온도에 따른 식수인원 차이 검정**"
   ]
  },
  {
   "cell_type": "code",
   "execution_count": 574,
   "metadata": {},
   "outputs": [
    {
     "data": {
      "text/plain": [
       "count    1161.000000\n",
       "mean       17.635659\n",
       "std         9.173468\n",
       "min        -5.400000\n",
       "25%         9.700000\n",
       "50%        18.200000\n",
       "75%        25.600000\n",
       "max        35.300000\n",
       "Name: lunch_tem, dtype: float64"
      ]
     },
     "execution_count": 574,
     "metadata": {},
     "output_type": "execute_result"
    }
   ],
   "source": [
    "train.lunch_tem.describe()"
   ]
  },
  {
   "cell_type": "code",
   "execution_count": 575,
   "metadata": {},
   "outputs": [],
   "source": [
    "train_l_l = train[train['lunch_tem'] <= 9.7]\n",
    "train_m_l = train[(train['lunch_tem'] > 9.7) & (train['lunch_tem'] <= 25.6)]\n",
    "train_h_l = train[train['lunch_tem'] > 25.6]"
   ]
  },
  {
   "cell_type": "code",
   "execution_count": 576,
   "metadata": {},
   "outputs": [
    {
     "data": {
      "text/plain": [
       "[Text(0, 0, 'lunch_tem_low'),\n",
       " Text(0, 0, 'lunch_tem_mid'),\n",
       " Text(0, 0, 'lunch_tem_high')]"
      ]
     },
     "execution_count": 576,
     "metadata": {},
     "output_type": "execute_result"
    },
    {
     "data": {
      "image/png": "[encoded data removed]",
      "text/plain": [
       "<Figure size 576x360 with 1 Axes>"
      ]
     },
     "metadata": {
      "needs_background": "light"
     },
     "output_type": "display_data"
    }
   ],
   "source": [
    "fig3, ax3 = plt.subplots(nrows = 1, ncols = 1 , figsize = (8,5))\n",
    "ax3.boxplot([train_l_l['lunch_num'], train_m_l['lunch_num'], train_h_l['lunch_num']])\n",
    "ax3.set_xticklabels(['lunch_tem_low','lunch_tem_mid','lunch_tem_high'])"
   ]
  },
  {
   "cell_type": "code",
   "execution_count": 577,
   "metadata": {},
   "outputs": [
    {
     "name": "stdout",
     "output_type": "stream",
     "text": [
      "========================================\n",
      "train_l_l\n",
      "1.0     vs train_l_l\n",
      "0.1763692267566472     vs train_m_l\n",
      "0.0007144996006216482     vs train_h_l\n",
      "========================================\n",
      "train_m_l\n",
      "0.1763692267566472     vs train_l_l\n",
      "1.0     vs train_m_l\n",
      "0.008433089107484708     vs train_h_l\n",
      "========================================\n",
      "train_h_l\n",
      "0.0007144996006216482     vs train_l_l\n",
      "0.008433089107484708     vs train_m_l\n",
      "1.0     vs train_h_l\n",
      "========================================\n"
     ]
    }
   ],
   "source": [
    "tem_l_df = [train_l_l, train_m_l, train_h_l]\n",
    "tem_l_tx = ['train_l_l', 'train_m_l', 'train_h_l']\n",
    "print('=' * 40)\n",
    "for i in range(3):\n",
    "    print(tem_l_tx[i])\n",
    "    for j in range(3):\n",
    "        _, pval = stats.levene(tem_l_df[i]['lunch_num'], tem_l_df[j]['lunch_num'])\n",
    "        if pval > 0.05:\n",
    "            _2, pval_t = ttest_ind(tem_l_df[i]['lunch_num'], tem_l_df[j]['lunch_num'], equal_var = True)\n",
    "            print(pval_t,'    vs', tem_l_tx[j])\n",
    "        else :\n",
    "            _2, pval_t = ttest_ind(tem_l_df[i]['lunch_num'], tem_l_df[j]['lunch_num'], equal_var = False)\n",
    "            print(pval_t,'    vs', tem_l_tx[j])\n",
    "    print('=' * 40)"
   ]
  },
  {
   "cell_type": "markdown",
   "metadata": {},
   "source": [
    "## **저녁 온도에 따른 식수인원 차이 검정**"
   ]
  },
  {
   "cell_type": "code",
   "execution_count": 578,
   "metadata": {},
   "outputs": [
    {
     "data": {
      "text/plain": [
       "count    1161.000000\n",
       "mean       16.529027\n",
       "std         9.198115\n",
       "min        -7.500000\n",
       "25%         8.900000\n",
       "50%        17.000000\n",
       "75%        24.300000\n",
       "max        34.600000\n",
       "Name: dinner_tem, dtype: float64"
      ]
     },
     "execution_count": 578,
     "metadata": {},
     "output_type": "execute_result"
    }
   ],
   "source": [
    "train.dinner_tem.describe()"
   ]
  },
  {
   "cell_type": "code",
   "execution_count": 579,
   "metadata": {},
   "outputs": [],
   "source": [
    "train_l_d = train[train['dinner_tem'] <= 8.9]\n",
    "train_m_d = train[(train['dinner_tem'] > 8.9) & (train['dinner_tem'] <= 24.3)]\n",
    "train_h_d = train[train['dinner_tem'] > 24.3]"
   ]
  },
  {
   "cell_type": "code",
   "execution_count": 580,
   "metadata": {},
   "outputs": [
    {
     "data": {
      "text/plain": [
       "[Text(0, 0, 'dinner_tem_low'),\n",
       " Text(0, 0, 'dinner_tem_mid'),\n",
       " Text(0, 0, 'dinner_tem_high')]"
      ]
     },
     "execution_count": 580,
     "metadata": {},
     "output_type": "execute_result"
    },
    {
     "data": {
      "image/png": "[encoded data removed]",
      "text/plain": [
       "<Figure size 576x360 with 1 Axes>"
      ]
     },
     "metadata": {
      "needs_background": "light"
     },
     "output_type": "display_data"
    }
   ],
   "source": [
    "fig4, ax4 = plt.subplots(nrows = 1, ncols = 1 , figsize = (8,5))\n",
    "ax4.boxplot([train_l_d['dinner_num'], train_m_d['dinner_num'], train_h_d['dinner_num']])\n",
    "ax4.set_xticklabels(['dinner_tem_low','dinner_tem_mid','dinner_tem_high'])"
   ]
  },
  {
   "cell_type": "code",
   "execution_count": 581,
   "metadata": {},
   "outputs": [
    {
     "name": "stdout",
     "output_type": "stream",
     "text": [
      "========================================\n",
      "train_l_d\n",
      "1.0     vs train_l_d\n",
      "0.016707412975336112     vs train_m_d\n",
      "0.935898712766036     vs train_h_d\n",
      "========================================\n",
      "train_m_d\n",
      "0.016707412975336112     vs train_l_d\n",
      "1.0     vs train_m_d\n",
      "0.001999427890081429     vs train_h_d\n",
      "========================================\n",
      "train_h_d\n",
      "0.935898712766036     vs train_l_d\n",
      "0.001999427890081429     vs train_m_d\n",
      "1.0     vs train_h_d\n",
      "========================================\n"
     ]
    }
   ],
   "source": [
    "tem_d_df = [train_l_d, train_m_d, train_h_d]\n",
    "tem_d_tx = ['train_l_d', 'train_m_d', 'train_h_d']\n",
    "print('=' * 40)\n",
    "for i in range(3):\n",
    "    print(tem_d_tx[i])\n",
    "    for j in range(3):\n",
    "        _, pval = stats.levene(tem_d_df[i]['dinner_num'], tem_d_df[j]['dinner_num'])\n",
    "        if pval > 0.05:\n",
    "            _2, pval_t = ttest_ind(tem_d_df[i]['dinner_num'], tem_d_df[j]['dinner_num'], equal_var = True)\n",
    "            print(pval_t,'    vs', tem_d_tx[j])\n",
    "        else :\n",
    "            _2, pval_t = ttest_ind(tem_d_df[i]['dinner_num'], tem_d_df[j]['dinner_num'], equal_var = False)\n",
    "            print(pval_t,'    vs', tem_d_tx[j])\n",
    "    print('=' * 40)"
   ]
  },
  {
   "cell_type": "markdown",
   "metadata": {},
   "source": [
    "# ===================================  \n",
    "# **가설 3번 요일에 따라 식수인원에 차이가 있다**  \n",
    "# **-완**"
   ]
  },
  {
   "cell_type": "markdown",
   "metadata": {},
   "source": [
    "## **점심식수인원**"
   ]
  },
  {
   "cell_type": "code",
   "execution_count": 582,
   "metadata": {},
   "outputs": [
    {
     "data": {
      "text/plain": [
       "<matplotlib.axes._subplots.AxesSubplot at 0x21b86340a88>"
      ]
     },
     "execution_count": 582,
     "metadata": {},
     "output_type": "execute_result"
    },
    {
     "data": {
      "image/png": "[encoded data removed]",
      "text/plain": [
       "<Figure size 504x432 with 1 Axes>"
      ]
     },
     "metadata": {
      "needs_background": "light"
     },
     "output_type": "display_data"
    }
   ],
   "source": [
    "plt.figure(figsize=(7,6))\n",
    "sns.boxplot(x=\"week\", y='lunch_num', data=train)"
   ]
  },
  {
   "cell_type": "code",
   "execution_count": 583,
   "metadata": {},
   "outputs": [],
   "source": [
    "train_mon = train.loc[train['week'] == '월']\n",
    "train_tue = train.loc[train['week'] == '화']\n",
    "train_wed = train.loc[train['week'] == '수']\n",
    "train_thu = train.loc[train['week'] == '목']\n",
    "train_fri = train.loc[train['week'] == '금']"
   ]
  },
  {
   "cell_type": "code",
   "execution_count": 584,
   "metadata": {},
   "outputs": [
    {
     "name": "stdout",
     "output_type": "stream",
     "text": [
      "========================================\n",
      "train_mon\n",
      "1.0     vs train_mon\n",
      "7.460344657903165e-47     vs train_tue\n",
      "3.138241722033116e-46     vs train_wed\n",
      "1.360769834405051e-82     vs train_thu\n",
      "6.201291395979666e-139     vs train_fri\n",
      "========================================\n",
      "train_tue\n",
      "7.460344657903165e-47     vs train_mon\n",
      "1.0     vs train_tue\n",
      "0.13853103300217712     vs train_wed\n",
      "1.1689702494479013e-18     vs train_thu\n",
      "8.540662591390006e-86     vs train_fri\n",
      "========================================\n",
      "train_wed\n",
      "3.138241722033116e-46     vs train_mon\n",
      "0.13853103300217712     vs train_tue\n",
      "1.0     vs train_wed\n",
      "4.7957244870189515e-12     vs train_thu\n",
      "2.1986296403397977e-69     vs train_fri\n",
      "========================================\n",
      "train_thu\n",
      "1.360769834405051e-82     vs train_mon\n",
      "1.1689702494479013e-18     vs train_tue\n",
      "4.7957244870189515e-12     vs train_wed\n",
      "1.0     vs train_thu\n",
      "1.5760907265634135e-41     vs train_fri\n",
      "========================================\n",
      "train_fri\n",
      "6.201291395979666e-139     vs train_mon\n",
      "8.540662591390006e-86     vs train_tue\n",
      "2.1986296403397977e-69     vs train_wed\n",
      "1.5760907265634135e-41     vs train_thu\n",
      "1.0     vs train_fri\n",
      "========================================\n"
     ]
    }
   ],
   "source": [
    "week_df = [train_mon, train_tue, train_wed, train_thu, train_fri]\n",
    "week_tx = ['train_mon', 'train_tue', 'train_wed', 'train_thu', 'train_fri']\n",
    "print('=' * 40)\n",
    "for i in range(5):\n",
    "    print(week_tx[i])\n",
    "    for j in range(5):\n",
    "        _, pval = stats.levene(week_df[i]['lunch_num'], week_df[j]['lunch_num'])\n",
    "        if pval > 0.05:\n",
    "            _2, pval_t = ttest_ind(week_df[i]['lunch_num'], week_df[j]['lunch_num'], equal_var = True)\n",
    "            print(pval_t,'    vs', week_tx[j])\n",
    "        else :\n",
    "            _2, pval_t = ttest_ind(week_df[i]['lunch_num'], week_df[j]['lunch_num'], equal_var = False)\n",
    "            print(pval_t,'    vs', week_tx[j])\n",
    "    print('=' * 40)"
   ]
  },
  {
   "cell_type": "markdown",
   "metadata": {},
   "source": [
    "## **저녁 식수인원**"
   ]
  },
  {
   "cell_type": "code",
   "execution_count": 585,
   "metadata": {},
   "outputs": [
    {
     "data": {
      "text/plain": [
       "<matplotlib.axes._subplots.AxesSubplot at 0x21b8af37908>"
      ]
     },
     "execution_count": 585,
     "metadata": {},
     "output_type": "execute_result"
    },
    {
     "data": {
      "image/png": "[encoded data removed]",
      "text/plain": [
       "<Figure size 504x432 with 1 Axes>"
      ]
     },
     "metadata": {
      "needs_background": "light"
     },
     "output_type": "display_data"
    }
   ],
   "source": [
    "plt.figure(figsize=(7,6))\n",
    "sns.boxplot(x=\"week\", y='dinner_num', data=train)"
   ]
  },
  {
   "cell_type": "code",
   "execution_count": 586,
   "metadata": {},
   "outputs": [
    {
     "name": "stdout",
     "output_type": "stream",
     "text": [
      "========================================\n",
      "train_mon\n",
      "1.0     vs train_mon\n",
      "0.07854221031324399     vs train_tue\n",
      "8.909818362151205e-23     vs train_wed\n",
      "1.835465537685554e-10     vs train_thu\n",
      "2.029104126138287e-36     vs train_fri\n",
      "========================================\n",
      "train_tue\n",
      "0.07854221031324399     vs train_mon\n",
      "1.0     vs train_tue\n",
      "4.116724508931756e-19     vs train_wed\n",
      "7.192441494033345e-07     vs train_thu\n",
      "2.3025923660791158e-32     vs train_fri\n",
      "========================================\n",
      "train_wed\n",
      "8.909818362151205e-23     vs train_mon\n",
      "4.116724508931756e-19     vs train_tue\n",
      "1.0     vs train_wed\n",
      "5.175386943689183e-07     vs train_thu\n",
      "0.002171886803901302     vs train_fri\n",
      "========================================\n",
      "train_thu\n",
      "1.835465537685554e-10     vs train_mon\n",
      "7.192441494033345e-07     vs train_tue\n",
      "5.175386943689183e-07     vs train_wed\n",
      "1.0     vs train_thu\n",
      "1.774528396002984e-16     vs train_fri\n",
      "========================================\n",
      "train_fri\n",
      "2.029104126138287e-36     vs train_mon\n",
      "2.3025923660791158e-32     vs train_tue\n",
      "0.002171886803901302     vs train_wed\n",
      "1.774528396002984e-16     vs train_thu\n",
      "1.0     vs train_fri\n",
      "========================================\n"
     ]
    }
   ],
   "source": [
    "week_df = [train_mon, train_tue, train_wed, train_thu, train_fri]\n",
    "week_tx = ['train_mon', 'train_tue', 'train_wed', 'train_thu', 'train_fri']\n",
    "print('=' * 40)\n",
    "for i in range(5):\n",
    "    print(week_tx[i])\n",
    "    for j in range(5):\n",
    "        _, pval = stats.levene(week_df[i]['dinner_num'], week_df[j]['dinner_num'])\n",
    "        if pval > 0.05:\n",
    "            _2, pval_t = ttest_ind(week_df[i]['dinner_num'], week_df[j]['dinner_num'], equal_var = True)\n",
    "            print(pval_t,'    vs', week_tx[j])\n",
    "        else :\n",
    "            _2, pval_t = ttest_ind(week_df[i]['dinner_num'], week_df[j]['dinner_num'], equal_var = False)\n",
    "            print(pval_t,'    vs', week_tx[j])\n",
    "    print('=' * 40)"
   ]
  },
  {
   "cell_type": "markdown",
   "metadata": {},
   "source": [
    "# ==============================  \n",
    "# **가설4번 월초 월말에 식수인원이 차이가 있다**   \n",
    "# **-완**"
   ]
  },
  {
   "cell_type": "code",
   "execution_count": 587,
   "metadata": {},
   "outputs": [],
   "source": [
    "# 4번가설 train_4 copy\n",
    "train_4 = train.copy()"
   ]
  },
  {
   "cell_type": "code",
   "execution_count": 588,
   "metadata": {},
   "outputs": [
    {
     "data": {
      "text/plain": [
       "<matplotlib.axes._subplots.AxesSubplot at 0x21b8b08fbc8>"
      ]
     },
     "execution_count": 588,
     "metadata": {},
     "output_type": "execute_result"
    },
    {
     "data": {
      "image/png": "[encoded data removed]",
      "text/plain": [
       "<Figure size 432x288 with 1 Axes>"
      ]
     },
     "metadata": {
      "needs_background": "light"
     },
     "output_type": "display_data"
    }
   ],
   "source": [
    "sns.distplot(train_4['day'])"
   ]
  },
  {
   "cell_type": "code",
   "execution_count": 589,
   "metadata": {},
   "outputs": [],
   "source": [
    "train_4_begin = train_4[train_4['day'] < 11]\n",
    "train_4_end = train_4[train_4['day'] > 20]"
   ]
  },
  {
   "cell_type": "code",
   "execution_count": 590,
   "metadata": {},
   "outputs": [
    {
     "data": {
      "text/plain": [
       "{'whiskers': [<matplotlib.lines.Line2D at 0x21b8b23df88>,\n",
       "  <matplotlib.lines.Line2D at 0x21b8b23df08>,\n",
       "  <matplotlib.lines.Line2D at 0x21b8b24af08>,\n",
       "  <matplotlib.lines.Line2D at 0x21b8b246c88>],\n",
       " 'caps': [<matplotlib.lines.Line2D at 0x21b8b241f48>,\n",
       "  <matplotlib.lines.Line2D at 0x21b8b241ec8>,\n",
       "  <matplotlib.lines.Line2D at 0x21b8b24fec8>,\n",
       "  <matplotlib.lines.Line2D at 0x21b8b255d48>],\n",
       " 'boxes': [<matplotlib.lines.Line2D at 0x21b8b23d688>,\n",
       "  <matplotlib.lines.Line2D at 0x21b8b24ad48>],\n",
       " 'medians': [<matplotlib.lines.Line2D at 0x21b8b246ec8>,\n",
       "  <matplotlib.lines.Line2D at 0x21b8b255e48>],\n",
       " 'fliers': [<matplotlib.lines.Line2D at 0x21b8b246fc8>,\n",
       "  <matplotlib.lines.Line2D at 0x21b8b25bc88>],\n",
       " 'means': []}"
      ]
     },
     "execution_count": 590,
     "metadata": {},
     "output_type": "execute_result"
    },
    {
     "data": {
      "image/png": "[encoded data removed]",
      "text/plain": [
       "<Figure size 432x288 with 1 Axes>"
      ]
     },
     "metadata": {
      "needs_background": "light"
     },
     "output_type": "display_data"
    }
   ],
   "source": [
    "plt.boxplot([train_4_begin['lunch_num'], train_4_end['lunch_num']])"
   ]
  },
  {
   "cell_type": "code",
   "execution_count": 591,
   "metadata": {},
   "outputs": [
    {
     "data": {
      "text/plain": [
       "LeveneResult(statistic=0.5236346951320735, pvalue=0.4695206582156749)"
      ]
     },
     "execution_count": 591,
     "metadata": {},
     "output_type": "execute_result"
    }
   ],
   "source": [
    "stats.levene(train_4_begin['lunch_num'],train_4_end['lunch_num'])"
   ]
  },
  {
   "cell_type": "code",
   "execution_count": 592,
   "metadata": {},
   "outputs": [
    {
     "data": {
      "text/plain": [
       "Ttest_indResult(statistic=2.736749572466001, pvalue=0.006351613914409999)"
      ]
     },
     "execution_count": 592,
     "metadata": {},
     "output_type": "execute_result"
    }
   ],
   "source": [
    "ttest_ind(train_4_begin['lunch_num'],train_4_end['lunch_num'], equal_var=True)"
   ]
  },
  {
   "cell_type": "markdown",
   "metadata": {},
   "source": [
    "#### **월초와 월말의 점심 식수인원이 유의미한 차이가 있다.**"
   ]
  },
  {
   "cell_type": "code",
   "execution_count": 593,
   "metadata": {},
   "outputs": [
    {
     "data": {
      "text/plain": [
       "{'whiskers': [<matplotlib.lines.Line2D at 0x21b8b2bdb48>,\n",
       "  <matplotlib.lines.Line2D at 0x21b8b2bdc48>,\n",
       "  <matplotlib.lines.Line2D at 0x21b8b2cab48>,\n",
       "  <matplotlib.lines.Line2D at 0x21b8b2c6848>],\n",
       " 'caps': [<matplotlib.lines.Line2D at 0x21b8b2c1b08>,\n",
       "  <matplotlib.lines.Line2D at 0x21b8b2c1c08>,\n",
       "  <matplotlib.lines.Line2D at 0x21b8b2cffc8>,\n",
       "  <matplotlib.lines.Line2D at 0x21b8b2d68c8>],\n",
       " 'boxes': [<matplotlib.lines.Line2D at 0x21b8b2bd288>,\n",
       "  <matplotlib.lines.Line2D at 0x21b8b2caa48>],\n",
       " 'medians': [<matplotlib.lines.Line2D at 0x21b8b2c6a88>,\n",
       "  <matplotlib.lines.Line2D at 0x21b8b2d6f48>],\n",
       " 'fliers': [<matplotlib.lines.Line2D at 0x21b8b2c6b88>,\n",
       "  <matplotlib.lines.Line2D at 0x21b8b2db948>],\n",
       " 'means': []}"
      ]
     },
     "execution_count": 593,
     "metadata": {},
     "output_type": "execute_result"
    },
    {
     "data": {
      "image/png": "[encoded data removed]",
      "text/plain": [
       "<Figure size 432x288 with 1 Axes>"
      ]
     },
     "metadata": {
      "needs_background": "light"
     },
     "output_type": "display_data"
    }
   ],
   "source": [
    "plt.boxplot([train_4_begin['dinner_num'], train_4_end['dinner_num']])"
   ]
  },
  {
   "cell_type": "code",
   "execution_count": 594,
   "metadata": {},
   "outputs": [
    {
     "data": {
      "text/plain": [
       "LeveneResult(statistic=1.7596856914435894, pvalue=0.185066958177375)"
      ]
     },
     "execution_count": 594,
     "metadata": {},
     "output_type": "execute_result"
    }
   ],
   "source": [
    "stats.levene(train_4_begin['dinner_num'],train_4_end['dinner_num'])"
   ]
  },
  {
   "cell_type": "code",
   "execution_count": 595,
   "metadata": {},
   "outputs": [
    {
     "data": {
      "text/plain": [
       "Ttest_indResult(statistic=1.4290620483740113, pvalue=0.1534022016862653)"
      ]
     },
     "execution_count": 595,
     "metadata": {},
     "output_type": "execute_result"
    }
   ],
   "source": [
    "ttest_ind(train_4_begin['dinner_num'],train_4_end['dinner_num'], equal_var=True)"
   ]
  },
  {
   "cell_type": "markdown",
   "metadata": {},
   "source": [
    "#### **월초와 월말의 저녁 식수인원이 유의미한 차이가 없다.**"
   ]
  },
  {
   "cell_type": "markdown",
   "metadata": {},
   "source": [
    "# ==========================  \n",
    "# **가설5 월별로 식수인원에 차이가 있다**  \n",
    "# **-완**"
   ]
  },
  {
   "cell_type": "markdown",
   "metadata": {},
   "source": [
    "## **점심식수인원**"
   ]
  },
  {
   "cell_type": "code",
   "execution_count": 596,
   "metadata": {},
   "outputs": [
    {
     "data": {
      "text/plain": [
       "<matplotlib.axes._subplots.AxesSubplot at 0x21b8b1f9f48>"
      ]
     },
     "execution_count": 596,
     "metadata": {},
     "output_type": "execute_result"
    },
    {
     "data": {
      "image/png": "[encoded data removed]",
      "text/plain": [
       "<Figure size 864x432 with 1 Axes>"
      ]
     },
     "metadata": {
      "needs_background": "light"
     },
     "output_type": "display_data"
    }
   ],
   "source": [
    "plt.figure(figsize=(12,6))\n",
    "sns.boxplot(train['month'], train['lunch_num'])"
   ]
  },
  {
   "cell_type": "code",
   "execution_count": 597,
   "metadata": {},
   "outputs": [],
   "source": [
    "month1 = train[train['month'] == 1]\n",
    "month2 = train[train['month'] == 2]\n",
    "month3 = train[train['month'] == 3]\n",
    "month4 = train[train['month'] == 4]\n",
    "month5 = train[train['month'] == 5]\n",
    "month6 = train[train['month'] == 6]\n",
    "month7 = train[train['month'] == 7]\n",
    "month8 = train[train['month'] == 8]\n",
    "month9 = train[train['month'] == 9]\n",
    "month10 = train[train['month'] == 10]\n",
    "month11 = train[train['month'] == 11]\n",
    "month12 = train[train['month'] == 12]"
   ]
  },
  {
   "cell_type": "code",
   "execution_count": 598,
   "metadata": {},
   "outputs": [
    {
     "name": "stdout",
     "output_type": "stream",
     "text": [
      "========================================\n",
      "month1\n",
      "1.0     vs month1\n",
      "0.055160042665265786     vs month2\n",
      "0.47595819900219327     vs month3\n",
      "0.07170964050286478     vs month4\n",
      "0.03716675071126511     vs month5\n",
      "0.02484252242256189     vs month6\n",
      "0.002954000509404556     vs month7\n",
      "0.004185839691643352     vs month8\n",
      "0.46454322528061665     vs month9\n",
      "0.6593802887244702     vs month10\n",
      "0.0015119495079699914     vs month11\n",
      "0.002933229702667333     vs month12\n",
      "========================================\n",
      "month2\n",
      "0.055160042665265786     vs month1\n",
      "1.0     vs month2\n",
      "0.2085837453986564     vs month3\n",
      "0.00021945564274480887     vs month4\n",
      "0.000156860760340326     vs month5\n",
      "6.256001823213187e-05     vs month6\n",
      "1.1404378269000349e-06     vs month7\n",
      "2.2775201693687715e-06     vs month8\n",
      "0.010145664309251125     vs month9\n",
      "0.024011706082806474     vs month10\n",
      "7.248574506150332e-07     vs month11\n",
      "5.6773792369132105e-06     vs month12\n",
      "========================================\n",
      "month3\n",
      "0.47595819900219327     vs month1\n",
      "0.2085837453986564     vs month2\n",
      "1.0     vs month3\n",
      "0.010672957100093075     vs month4\n",
      "0.005421066445636272     vs month5\n",
      "0.0031339933506979696     vs month6\n",
      "0.0001734577697888875     vs month7\n",
      "0.0002791272883170296     vs month8\n",
      "0.15158584273909084     vs month9\n",
      "0.25919348121807406     vs month10\n",
      "8.688963895360288e-05     vs month11\n",
      "0.0002833426771743914     vs month12\n",
      "========================================\n",
      "month4\n",
      "0.07170964050286478     vs month1\n",
      "0.00021945564274480887     vs month2\n",
      "0.010672957100093075     vs month3\n",
      "1.0     vs month4\n",
      "0.645748634754501     vs month5\n",
      "0.5674617105901907     vs month6\n",
      "0.24614730717619226     vs month7\n",
      "0.2803460950031626     vs month8\n",
      "0.31539105115449395     vs month9\n",
      "0.20390256983732785     vs month10\n",
      "0.144433373448392     vs month11\n",
      "0.1459720733671019     vs month12\n",
      "========================================\n",
      "month5\n",
      "0.03716675071126511     vs month1\n",
      "0.000156860760340326     vs month2\n",
      "0.005421066445636272     vs month3\n",
      "0.645748634754501     vs month4\n",
      "1.0     vs month5\n",
      "0.9311233735388317     vs month6\n",
      "0.5672582680250955     vs month7\n",
      "0.6067669335033982     vs month8\n",
      "0.17856223295561788     vs month9\n",
      "0.11345408016563509     vs month10\n",
      "0.380098621778619     vs month11\n",
      "0.3460568220524779     vs month12\n",
      "========================================\n",
      "month6\n",
      "0.02484252242256189     vs month1\n",
      "6.256001823213187e-05     vs month2\n",
      "0.0031339933506979696     vs month3\n",
      "0.5674617105901907     vs month4\n",
      "0.9311233735388317     vs month5\n",
      "1.0     vs month6\n",
      "0.6160492548741612     vs month7\n",
      "0.6626322773529001     vs month8\n",
      "0.13792856975119308     vs month9\n",
      "0.08497808935469629     vs month10\n",
      "0.4165330678830067     vs month11\n",
      "0.3808063001406845     vs month12\n",
      "========================================\n",
      "month7\n",
      "0.002954000509404556     vs month1\n",
      "1.1404378269000349e-06     vs month2\n",
      "0.0001734577697888875     vs month3\n",
      "0.24614730717619226     vs month4\n",
      "0.5672582680250955     vs month5\n",
      "0.6160492548741612     vs month6\n",
      "1.0     vs month7\n",
      "0.9509662028024802     vs month8\n",
      "0.03328607917597608     vs month9\n",
      "0.01724886433085377     vs month10\n",
      "0.7116835528153624     vs month11\n",
      "0.6182948097439305     vs month12\n",
      "========================================\n",
      "month8\n",
      "0.004185839691643352     vs month1\n",
      "2.2775201693687715e-06     vs month2\n",
      "0.0002791272883170296     vs month3\n",
      "0.2803460950031626     vs month4\n",
      "0.6067669335033982     vs month5\n",
      "0.6626322773529001     vs month6\n",
      "0.9509662028024802     vs month7\n",
      "1.0     vs month8\n",
      "0.04187262128496732     vs month9\n",
      "0.022312316769075864     vs month10\n",
      "0.6733504156513617     vs month11\n",
      "0.5871260436064512     vs month12\n",
      "========================================\n",
      "month9\n",
      "0.46454322528061665     vs month1\n",
      "0.010145664309251125     vs month2\n",
      "0.15158584273909084     vs month3\n",
      "0.31539105115449395     vs month4\n",
      "0.17856223295561788     vs month5\n",
      "0.13792856975119308     vs month6\n",
      "0.03328607917597608     vs month7\n",
      "0.04187262128496732     vs month8\n",
      "1.0     vs month9\n",
      "0.7869078390585705     vs month10\n",
      "0.01828921438347449     vs month11\n",
      "0.024845787310742603     vs month12\n",
      "========================================\n",
      "month10\n",
      "0.6593802887244702     vs month1\n",
      "0.024011706082806474     vs month2\n",
      "0.25919348121807406     vs month3\n",
      "0.20390256983732785     vs month4\n",
      "0.11345408016563509     vs month5\n",
      "0.08497808935469629     vs month6\n",
      "0.01724886433085377     vs month7\n",
      "0.022312316769075864     vs month8\n",
      "0.7869078390585705     vs month9\n",
      "1.0     vs month10\n",
      "0.009429049033125353     vs month11\n",
      "0.014002160820619317     vs month12\n",
      "========================================\n",
      "month11\n",
      "0.0015119495079699914     vs month1\n",
      "7.248574506150332e-07     vs month2\n",
      "8.688963895360288e-05     vs month3\n",
      "0.144433373448392     vs month4\n",
      "0.380098621778619     vs month5\n",
      "0.4165330678830067     vs month6\n",
      "0.7116835528153624     vs month7\n",
      "0.6733504156513617     vs month8\n",
      "0.01828921438347449     vs month9\n",
      "0.009429049033125353     vs month10\n",
      "1.0     vs month11\n",
      "0.86338307447346     vs month12\n",
      "========================================\n",
      "month12\n",
      "0.002933229702667333     vs month1\n",
      "5.6773792369132105e-06     vs month2\n",
      "0.0002833426771743914     vs month3\n",
      "0.1459720733671019     vs month4\n",
      "0.3460568220524779     vs month5\n",
      "0.3808063001406845     vs month6\n",
      "0.6182948097439305     vs month7\n",
      "0.5871260436064512     vs month8\n",
      "0.024845787310742603     vs month9\n",
      "0.014002160820619317     vs month10\n",
      "0.86338307447346     vs month11\n",
      "1.0     vs month12\n",
      "========================================\n"
     ]
    }
   ],
   "source": [
    "month_df = [month1, month2, month3, month4, month5, month6, month7, month8, month9, month10, month11, month12]\n",
    "month_tx = ['month1', 'month2', 'month3', 'month4', 'month5', 'month6', 'month7', 'month8', 'month9', 'month10', 'month11', 'month12']\n",
    "print('=' * 40)\n",
    "for i in range(12):\n",
    "    print(month_tx[i])\n",
    "    for j in range(12):\n",
    "        _, pval = stats.levene(month_df[i]['lunch_num'], month_df[j]['lunch_num'])\n",
    "        if pval > 0.05:\n",
    "            _2, pval_t = ttest_ind(month_df[i]['lunch_num'], month_df[j]['lunch_num'], equal_var = True)\n",
    "            print(pval_t,'    vs', month_tx[j])\n",
    "        else :\n",
    "            _2, pval_t = ttest_ind(month_df[i]['lunch_num'], month_df[j]['lunch_num'], equal_var = False)\n",
    "            print(pval_t,'    vs', month_tx[j])\n",
    "    print('=' * 40)"
   ]
  },
  {
   "cell_type": "markdown",
   "metadata": {},
   "source": [
    "## **저녁식수인원**"
   ]
  },
  {
   "cell_type": "code",
   "execution_count": 599,
   "metadata": {},
   "outputs": [
    {
     "data": {
      "text/plain": [
       "<matplotlib.axes._subplots.AxesSubplot at 0x21b8c71cc48>"
      ]
     },
     "execution_count": 599,
     "metadata": {},
     "output_type": "execute_result"
    },
    {
     "data": {
      "image/png": "[encoded data removed]",
      "text/plain": [
       "<Figure size 864x432 with 1 Axes>"
      ]
     },
     "metadata": {
      "needs_background": "light"
     },
     "output_type": "display_data"
    }
   ],
   "source": [
    "plt.figure(figsize=(12,6))\n",
    "sns.boxplot(train['month'], train['dinner_num'])"
   ]
  },
  {
   "cell_type": "code",
   "execution_count": 600,
   "metadata": {},
   "outputs": [
    {
     "name": "stdout",
     "output_type": "stream",
     "text": [
      "========================================\n",
      "month1\n",
      "1.0     vs month1\n",
      "1.1601355654979663e-09     vs month2\n",
      "9.521809222268265e-13     vs month3\n",
      "0.00015283569576398425     vs month4\n",
      "0.04106536896641942     vs month5\n",
      "0.015518166857381681     vs month6\n",
      "0.5735035771465381     vs month7\n",
      "0.06829255288981938     vs month8\n",
      "0.0033097614888716225     vs month9\n",
      "0.00101890934629877     vs month10\n",
      "0.36102221258564526     vs month11\n",
      "0.16927152418714936     vs month12\n",
      "========================================\n",
      "month2\n",
      "1.1601355654979663e-09     vs month1\n",
      "1.0     vs month2\n",
      "0.8949396619602626     vs month3\n",
      "0.0009092470712318217     vs month4\n",
      "7.5272630022323294e-06     vs month5\n",
      "1.029509798716381e-05     vs month6\n",
      "1.5659832597834804e-10     vs month7\n",
      "1.0226909420743637e-06     vs month8\n",
      "0.0014483033507391681     vs month9\n",
      "0.009314647637376699     vs month10\n",
      "2.4026567913569604e-08     vs month11\n",
      "9.428019411575308e-11     vs month12\n",
      "========================================\n",
      "month3\n",
      "9.521809222268265e-13     vs month1\n",
      "0.8949396619602626     vs month2\n",
      "1.0     vs month3\n",
      "5.06114309716257e-05     vs month4\n",
      "9.090194254037567e-08     vs month5\n",
      "8.237697752174794e-08     vs month6\n",
      "3.0788763988601505e-14     vs month7\n",
      "6.345569570775352e-09     vs month8\n",
      "0.00013203364390507543     vs month9\n",
      "0.00236746184670416     vs month10\n",
      "4.495227294272107e-11     vs month11\n",
      "7.807462204024655e-13     vs month12\n",
      "========================================\n",
      "month4\n",
      "0.00015283569576398425     vs month1\n",
      "0.0009092470712318217     vs month2\n",
      "5.06114309716257e-05     vs month3\n",
      "1.0     vs month4\n",
      "0.09014969295158912     vs month5\n",
      "0.13768922694397942     vs month6\n",
      "0.00016889474251700716     vs month7\n",
      "0.03848901927570837     vs month8\n",
      "0.7023769512354926     vs month9\n",
      "0.86703875448838     vs month10\n",
      "0.002745986370282704     vs month11\n",
      "5.890172065991112e-06     vs month12\n",
      "========================================\n",
      "month5\n",
      "0.04106536896641942     vs month1\n",
      "7.5272630022323294e-06     vs month2\n",
      "9.090194254037567e-08     vs month3\n",
      "0.09014969295158912     vs month4\n",
      "1.0     vs month5\n",
      "0.764088540304848     vs month6\n",
      "0.07784711915055115     vs month7\n",
      "0.7628904310557805     vs month8\n",
      "0.2723774214911497     vs month9\n",
      "0.12239881447140351     vs month10\n",
      "0.2275043552302909     vs month11\n",
      "0.0018951126824787946     vs month12\n",
      "========================================\n",
      "month6\n",
      "0.015518166857381681     vs month1\n",
      "1.029509798716381e-05     vs month2\n",
      "8.237697752174794e-08     vs month3\n",
      "0.13768922694397942     vs month4\n",
      "0.764088540304848     vs month5\n",
      "1.0     vs month6\n",
      "0.026640649099622854     vs month7\n",
      "0.5312162118200077     vs month8\n",
      "0.38085389425967686     vs month9\n",
      "0.17801655019415905     vs month10\n",
      "0.11682722411142883     vs month11\n",
      "0.0005295352824699172     vs month12\n",
      "========================================\n",
      "month7\n",
      "0.5735035771465381     vs month1\n",
      "1.5659832597834804e-10     vs month2\n",
      "3.0788763988601505e-14     vs month3\n",
      "0.00016889474251700716     vs month4\n",
      "0.07784711915055115     vs month5\n",
      "0.026640649099622854     vs month6\n",
      "1.0     vs month7\n",
      "0.1368581786900508     vs month8\n",
      "0.006209339943100456     vs month9\n",
      "0.0019543925060602116     vs month10\n",
      "0.6500586679918505     vs month11\n",
      "0.0515208721852451     vs month12\n",
      "========================================\n",
      "month8\n",
      "0.06829255288981938     vs month1\n",
      "1.0226909420743637e-06     vs month2\n",
      "6.345569570775352e-09     vs month3\n",
      "0.03848901927570837     vs month4\n",
      "0.7628904310557805     vs month5\n",
      "0.5312162118200077     vs month6\n",
      "0.1368581786900508     vs month7\n",
      "1.0     vs month8\n",
      "0.15782536848731799     vs month9\n",
      "0.06247741873145973     vs month10\n",
      "0.34621200918203565     vs month11\n",
      "0.003337902578964356     vs month12\n",
      "========================================\n",
      "month9\n",
      "0.0033097614888716225     vs month1\n",
      "0.0014483033507391681     vs month2\n",
      "0.00013203364390507543     vs month3\n",
      "0.7023769512354926     vs month4\n",
      "0.2723774214911497     vs month5\n",
      "0.38085389425967686     vs month6\n",
      "0.006209339943100456     vs month7\n",
      "0.15782536848731799     vs month8\n",
      "1.0     vs month9\n",
      "0.6424329116358349     vs month10\n",
      "0.02623647003228623     vs month11\n",
      "0.00013531257669032061     vs month12\n",
      "========================================\n",
      "month10\n",
      "0.00101890934629877     vs month1\n",
      "0.009314647637376699     vs month2\n",
      "0.00236746184670416     vs month3\n",
      "0.86703875448838     vs month4\n",
      "0.12239881447140351     vs month5\n",
      "0.17801655019415905     vs month6\n",
      "0.0019543925060602116     vs month7\n",
      "0.06247741873145973     vs month8\n",
      "0.6424329116358349     vs month9\n",
      "1.0     vs month10\n",
      "0.008653384550438955     vs month11\n",
      "4.737466633088883e-05     vs month12\n",
      "========================================\n",
      "month11\n",
      "0.36102221258564526     vs month1\n",
      "2.4026567913569604e-08     vs month2\n",
      "4.495227294272107e-11     vs month3\n",
      "0.002745986370282704     vs month4\n",
      "0.2275043552302909     vs month5\n",
      "0.11682722411142883     vs month6\n",
      "0.6500586679918505     vs month7\n",
      "0.34621200918203565     vs month8\n",
      "0.02623647003228623     vs month9\n",
      "0.008653384550438955     vs month10\n",
      "1.0     vs month11\n",
      "0.029446986627402482     vs month12\n",
      "========================================\n",
      "month12\n",
      "0.16927152418714936     vs month1\n",
      "9.428019411575308e-11     vs month2\n",
      "7.807462204024655e-13     vs month3\n",
      "5.890172065991112e-06     vs month4\n",
      "0.0018951126824787946     vs month5\n",
      "0.0005295352824699172     vs month6\n",
      "0.0515208721852451     vs month7\n",
      "0.003337902578964356     vs month8\n",
      "0.00013531257669032061     vs month9\n",
      "4.737466633088883e-05     vs month10\n",
      "0.029446986627402482     vs month11\n",
      "1.0     vs month12\n",
      "========================================\n"
     ]
    }
   ],
   "source": [
    "month_df = [month1, month2, month3, month4, month5, month6, month7, month8, month9, month10, month11, month12]\n",
    "month_tx = ['month1', 'month2', 'month3', 'month4', 'month5', 'month6', 'month7', 'month8', 'month9', 'month10', 'month11', 'month12']\n",
    "print('=' * 40)\n",
    "for i in range(12):\n",
    "    print(month_tx[i])\n",
    "    for j in range(12):\n",
    "        _, pval = stats.levene(month_df[i]['dinner_num'], month_df[j]['dinner_num'])\n",
    "        if pval > 0.05:\n",
    "            _2, pval_t = ttest_ind(month_df[i]['dinner_num'], month_df[j]['dinner_num'], equal_var = True)\n",
    "            print(pval_t,'    vs', month_tx[j])\n",
    "        else :\n",
    "            _2, pval_t = ttest_ind(month_df[i]['dinner_num'], month_df[j]['dinner_num'], equal_var = False)\n",
    "            print(pval_t,'    vs', month_tx[j])\n",
    "    print('=' * 40)"
   ]
  },
  {
   "cell_type": "markdown",
   "metadata": {},
   "source": [
    "# =================================  \n",
    "# **가설6  코로나 전과 후에 식수 인원이 차이가 있다.**  \n",
    "# **-완**"
   ]
  },
  {
   "cell_type": "code",
   "execution_count": 601,
   "metadata": {},
   "outputs": [
    {
     "data": {
      "text/plain": [
       "<matplotlib.axes._subplots.AxesSubplot at 0x21b8c870a48>"
      ]
     },
     "execution_count": 601,
     "metadata": {},
     "output_type": "execute_result"
    },
    {
     "data": {
      "image/png": "[encoded data removed]",
      "text/plain": [
       "<Figure size 1080x432 with 1 Axes>"
      ]
     },
     "metadata": {
      "needs_background": "light"
     },
     "output_type": "display_data"
    }
   ],
   "source": [
    "train[train['date'] > '2020-02-01'].plot('date', 'mem_hj', figsize = (15, 6))"
   ]
  },
  {
   "cell_type": "code",
   "execution_count": 602,
   "metadata": {},
   "outputs": [
    {
     "data": {
      "text/html": [
       "<div>\n",
       "<style scoped>\n",
       "    .dataframe tbody tr th:only-of-type {\n",
       "        vertical-align: middle;\n",
       "    }\n",
       "\n",
       "    .dataframe tbody tr th {\n",
       "        vertical-align: top;\n",
       "    }\n",
       "\n",
       "    .dataframe thead th {\n",
       "        text-align: right;\n",
       "    }\n",
       "</style>\n",
       "<table border=\"1\" class=\"dataframe\">\n",
       "  <thead>\n",
       "    <tr style=\"text-align: right;\">\n",
       "      <th></th>\n",
       "      <th>date</th>\n",
       "      <th>mem_hj</th>\n",
       "    </tr>\n",
       "  </thead>\n",
       "  <tbody>\n",
       "    <tr>\n",
       "      <td>951</td>\n",
       "      <td>2020-02-27</td>\n",
       "      <td>5.0</td>\n",
       "    </tr>\n",
       "    <tr>\n",
       "      <td>952</td>\n",
       "      <td>2020-02-28</td>\n",
       "      <td>7.0</td>\n",
       "    </tr>\n",
       "    <tr>\n",
       "      <td>953</td>\n",
       "      <td>2020-03-02</td>\n",
       "      <td>14.0</td>\n",
       "    </tr>\n",
       "    <tr>\n",
       "      <td>954</td>\n",
       "      <td>2020-03-03</td>\n",
       "      <td>12.0</td>\n",
       "    </tr>\n",
       "    <tr>\n",
       "      <td>955</td>\n",
       "      <td>2020-03-04</td>\n",
       "      <td>19.0</td>\n",
       "    </tr>\n",
       "    <tr>\n",
       "      <td>956</td>\n",
       "      <td>2020-03-05</td>\n",
       "      <td>15.0</td>\n",
       "    </tr>\n",
       "    <tr>\n",
       "      <td>957</td>\n",
       "      <td>2020-03-06</td>\n",
       "      <td>12.0</td>\n",
       "    </tr>\n",
       "    <tr>\n",
       "      <td>958</td>\n",
       "      <td>2020-03-09</td>\n",
       "      <td>16.0</td>\n",
       "    </tr>\n",
       "    <tr>\n",
       "      <td>959</td>\n",
       "      <td>2020-03-10</td>\n",
       "      <td>20.0</td>\n",
       "    </tr>\n",
       "    <tr>\n",
       "      <td>960</td>\n",
       "      <td>2020-03-11</td>\n",
       "      <td>23.0</td>\n",
       "    </tr>\n",
       "    <tr>\n",
       "      <td>961</td>\n",
       "      <td>2020-03-12</td>\n",
       "      <td>17.0</td>\n",
       "    </tr>\n",
       "    <tr>\n",
       "      <td>962</td>\n",
       "      <td>2020-03-13</td>\n",
       "      <td>20.0</td>\n",
       "    </tr>\n",
       "    <tr>\n",
       "      <td>963</td>\n",
       "      <td>2020-03-16</td>\n",
       "      <td>21.0</td>\n",
       "    </tr>\n",
       "    <tr>\n",
       "      <td>964</td>\n",
       "      <td>2020-03-17</td>\n",
       "      <td>20.0</td>\n",
       "    </tr>\n",
       "    <tr>\n",
       "      <td>965</td>\n",
       "      <td>2020-03-18</td>\n",
       "      <td>25.0</td>\n",
       "    </tr>\n",
       "  </tbody>\n",
       "</table>\n",
       "</div>"
      ],
      "text/plain": [
       "           date  mem_hj\n",
       "951  2020-02-27     5.0\n",
       "952  2020-02-28     7.0\n",
       "953  2020-03-02    14.0\n",
       "954  2020-03-03    12.0\n",
       "955  2020-03-04    19.0\n",
       "956  2020-03-05    15.0\n",
       "957  2020-03-06    12.0\n",
       "958  2020-03-09    16.0\n",
       "959  2020-03-10    20.0\n",
       "960  2020-03-11    23.0\n",
       "961  2020-03-12    17.0\n",
       "962  2020-03-13    20.0\n",
       "963  2020-03-16    21.0\n",
       "964  2020-03-17    20.0\n",
       "965  2020-03-18    25.0"
      ]
     },
     "execution_count": 602,
     "metadata": {},
     "output_type": "execute_result"
    }
   ],
   "source": [
    "train[train['date'] > '2020-02-25'][['date','mem_hj']].head(15)"
   ]
  },
  {
   "cell_type": "markdown",
   "metadata": {},
   "source": [
    "### **3월부터 재택근무자가 늘어남**  \n",
    "### **신천지 코로나의 영향**"
   ]
  },
  {
   "cell_type": "code",
   "execution_count": 603,
   "metadata": {},
   "outputs": [],
   "source": [
    "before_corona = train[train['date'] < '2020-03-01']\n",
    "after_corona = train[train['date'] > '2020-03-01']"
   ]
  },
  {
   "cell_type": "code",
   "execution_count": 604,
   "metadata": {},
   "outputs": [
    {
     "data": {
      "text/plain": [
       "<matplotlib.axes._subplots.AxesSubplot at 0x21b8ca37c88>"
      ]
     },
     "execution_count": 604,
     "metadata": {},
     "output_type": "execute_result"
    },
    {
     "data": {
      "image/png": "[encoded data removed]",
      "text/plain": [
       "<Figure size 432x288 with 1 Axes>"
      ]
     },
     "metadata": {
      "needs_background": "light"
     },
     "output_type": "display_data"
    }
   ],
   "source": [
    "sns.distplot(before_corona['lunch_num'])"
   ]
  },
  {
   "cell_type": "code",
   "execution_count": 605,
   "metadata": {},
   "outputs": [
    {
     "data": {
      "text/plain": [
       "<matplotlib.axes._subplots.AxesSubplot at 0x21b8c71cac8>"
      ]
     },
     "execution_count": 605,
     "metadata": {},
     "output_type": "execute_result"
    },
    {
     "data": {
      "image/png": "[encoded data removed]",
      "text/plain": [
       "<Figure size 432x288 with 1 Axes>"
      ]
     },
     "metadata": {
      "needs_background": "light"
     },
     "output_type": "display_data"
    }
   ],
   "source": [
    "sns.distplot(before_corona['dinner_num'])"
   ]
  },
  {
   "cell_type": "code",
   "execution_count": 606,
   "metadata": {},
   "outputs": [
    {
     "data": {
      "text/plain": [
       "<matplotlib.axes._subplots.AxesSubplot at 0x21b8ccde188>"
      ]
     },
     "execution_count": 606,
     "metadata": {},
     "output_type": "execute_result"
    },
    {
     "data": {
      "image/png": "[encoded data removed]",
      "text/plain": [
       "<Figure size 432x288 with 1 Axes>"
      ]
     },
     "metadata": {
      "needs_background": "light"
     },
     "output_type": "display_data"
    }
   ],
   "source": [
    "sns.distplot(after_corona['lunch_num'])"
   ]
  },
  {
   "cell_type": "code",
   "execution_count": 607,
   "metadata": {},
   "outputs": [
    {
     "data": {
      "text/plain": [
       "<matplotlib.axes._subplots.AxesSubplot at 0x21b8cadaf88>"
      ]
     },
     "execution_count": 607,
     "metadata": {},
     "output_type": "execute_result"
    },
    {
     "data": {
      "image/png": "[encoded data removed]",
      "text/plain": [
       "<Figure size 432x288 with 1 Axes>"
      ]
     },
     "metadata": {
      "needs_background": "light"
     },
     "output_type": "display_data"
    }
   ],
   "source": [
    "sns.distplot(after_corona['dinner_num'])"
   ]
  },
  {
   "cell_type": "code",
   "execution_count": 608,
   "metadata": {},
   "outputs": [
    {
     "data": {
      "text/plain": [
       "{'whiskers': [<matplotlib.lines.Line2D at 0x21b8ce3af48>,\n",
       "  <matplotlib.lines.Line2D at 0x21b8ce3aec8>,\n",
       "  <matplotlib.lines.Line2D at 0x21b8ce48f48>,\n",
       "  <matplotlib.lines.Line2D at 0x21b8ce42c48>],\n",
       " 'caps': [<matplotlib.lines.Line2D at 0x21b8ce3ff08>,\n",
       "  <matplotlib.lines.Line2D at 0x21b8ce3fe88>,\n",
       "  <matplotlib.lines.Line2D at 0x21b8ce4fe88>,\n",
       "  <matplotlib.lines.Line2D at 0x21b8ce53cc8>],\n",
       " 'boxes': [<matplotlib.lines.Line2D at 0x21b8ce3a608>,\n",
       "  <matplotlib.lines.Line2D at 0x21b8ce48e48>],\n",
       " 'medians': [<matplotlib.lines.Line2D at 0x21b8ce42e88>,\n",
       "  <matplotlib.lines.Line2D at 0x21b8ce53dc8>],\n",
       " 'fliers': [<matplotlib.lines.Line2D at 0x21b8ce42f88>,\n",
       "  <matplotlib.lines.Line2D at 0x21b8ce58c08>],\n",
       " 'means': []}"
      ]
     },
     "execution_count": 608,
     "metadata": {},
     "output_type": "execute_result"
    },
    {
     "data": {
      "image/png": "[encoded data removed]",
      "text/plain": [
       "<Figure size 432x288 with 1 Axes>"
      ]
     },
     "metadata": {
      "needs_background": "light"
     },
     "output_type": "display_data"
    }
   ],
   "source": [
    "plt.boxplot([before_corona['lunch_num'], after_corona['lunch_num']])"
   ]
  },
  {
   "cell_type": "code",
   "execution_count": 609,
   "metadata": {},
   "outputs": [
    {
     "data": {
      "text/plain": [
       "LeveneResult(statistic=2.7591851749040965, pvalue=0.09696793610002503)"
      ]
     },
     "execution_count": 609,
     "metadata": {},
     "output_type": "execute_result"
    }
   ],
   "source": [
    "stats.levene(before_corona['lunch_num'],after_corona['lunch_num'])"
   ]
  },
  {
   "cell_type": "code",
   "execution_count": 610,
   "metadata": {},
   "outputs": [
    {
     "data": {
      "text/plain": [
       "Ttest_indResult(statistic=0.11326785866140347, pvalue=0.9098378141122276)"
      ]
     },
     "execution_count": 610,
     "metadata": {},
     "output_type": "execute_result"
    }
   ],
   "source": [
    "ttest_ind(before_corona['lunch_num'], after_corona['lunch_num'], equal_var = True)"
   ]
  },
  {
   "cell_type": "markdown",
   "metadata": {},
   "source": [
    "#### **코로나 이전과 이후에 점심 식수인원은 유의미한 차이가 없다.**  "
   ]
  },
  {
   "cell_type": "code",
   "execution_count": 611,
   "metadata": {},
   "outputs": [
    {
     "data": {
      "text/plain": [
       "{'whiskers': [<matplotlib.lines.Line2D at 0x21b8d012f88>,\n",
       "  <matplotlib.lines.Line2D at 0x21b8d016ec8>,\n",
       "  <matplotlib.lines.Line2D at 0x21b8d027dc8>,\n",
       "  <matplotlib.lines.Line2D at 0x21b8d027ec8>],\n",
       " 'caps': [<matplotlib.lines.Line2D at 0x21b8d016fc8>,\n",
       "  <matplotlib.lines.Line2D at 0x21b8d01de48>,\n",
       "  <matplotlib.lines.Line2D at 0x21b8d02dcc8>,\n",
       "  <matplotlib.lines.Line2D at 0x21b8d02ddc8>],\n",
       " 'boxes': [<matplotlib.lines.Line2D at 0x21b8d012e08>,\n",
       "  <matplotlib.lines.Line2D at 0x21b8d023e88>],\n",
       " 'medians': [<matplotlib.lines.Line2D at 0x21b8d01df48>,\n",
       "  <matplotlib.lines.Line2D at 0x21b8d033c48>],\n",
       " 'fliers': [<matplotlib.lines.Line2D at 0x21b8d023dc8>,\n",
       "  <matplotlib.lines.Line2D at 0x21b8d033d48>],\n",
       " 'means': []}"
      ]
     },
     "execution_count": 611,
     "metadata": {},
     "output_type": "execute_result"
    },
    {
     "data": {
      "image/png": "[encoded data removed]",
      "text/plain": [
       "<Figure size 432x288 with 1 Axes>"
      ]
     },
     "metadata": {
      "needs_background": "light"
     },
     "output_type": "display_data"
    }
   ],
   "source": [
    "plt.boxplot([before_corona['dinner_num'], after_corona['dinner_num']])"
   ]
  },
  {
   "cell_type": "code",
   "execution_count": 612,
   "metadata": {},
   "outputs": [
    {
     "data": {
      "text/plain": [
       "LeveneResult(statistic=29.343450212298645, pvalue=7.367230018667021e-08)"
      ]
     },
     "execution_count": 612,
     "metadata": {},
     "output_type": "execute_result"
    }
   ],
   "source": [
    "stats.levene(before_corona['dinner_num'],after_corona['dinner_num'])"
   ]
  },
  {
   "cell_type": "code",
   "execution_count": 613,
   "metadata": {},
   "outputs": [
    {
     "data": {
      "text/plain": [
       "Ttest_indResult(statistic=6.180649825321564, pvalue=2.4209321597273984e-09)"
      ]
     },
     "execution_count": 613,
     "metadata": {},
     "output_type": "execute_result"
    }
   ],
   "source": [
    "ttest_ind(before_corona['dinner_num'], after_corona['dinner_num'], equal_var = False)"
   ]
  },
  {
   "cell_type": "markdown",
   "metadata": {},
   "source": [
    "#### **코로나 이전과 이후에 저녁 식수인원은 유의미한 차이가 있다.**"
   ]
  },
  {
   "cell_type": "markdown",
   "metadata": {},
   "source": [
    "# ===========================   \n",
    "# **가설 7번  시간외 근무자가 많은날과 적은날에 석식계 차이가 있다.**  \n",
    "# **-완**"
   ]
  },
  {
   "cell_type": "code",
   "execution_count": 614,
   "metadata": {},
   "outputs": [
    {
     "data": {
      "text/plain": [
       "<matplotlib.axes._subplots.AxesSubplot at 0x21b8d060348>"
      ]
     },
     "execution_count": 614,
     "metadata": {},
     "output_type": "execute_result"
    },
    {
     "data": {
      "image/png": "[encoded data removed]",
      "text/plain": [
       "<Figure size 576x360 with 1 Axes>"
      ]
     },
     "metadata": {
      "needs_background": "light"
     },
     "output_type": "display_data"
    }
   ],
   "source": [
    "plt.figure(figsize=(8,5))\n",
    "sns.boxplot(x = 'mem_ot', data = train)"
   ]
  },
  {
   "cell_type": "code",
   "execution_count": 615,
   "metadata": {},
   "outputs": [
    {
     "data": {
      "text/plain": [
       "<matplotlib.axes._subplots.AxesSubplot at 0x21b8d0b2c88>"
      ]
     },
     "execution_count": 615,
     "metadata": {},
     "output_type": "execute_result"
    },
    {
     "data": {
      "image/png": "[encoded data removed]",
      "text/plain": [
       "<Figure size 432x288 with 1 Axes>"
      ]
     },
     "metadata": {
      "needs_background": "light"
     },
     "output_type": "display_data"
    }
   ],
   "source": [
    "sns.distplot(train['mem_ot'])"
   ]
  },
  {
   "cell_type": "code",
   "execution_count": 616,
   "metadata": {},
   "outputs": [
    {
     "data": {
      "text/plain": [
       "count    1161.000000\n",
       "mean      284.371232\n",
       "std       245.045800\n",
       "min         0.000000\n",
       "25%        11.000000\n",
       "50%       310.000000\n",
       "75%       458.000000\n",
       "max      1044.000000\n",
       "Name: mem_ot, dtype: float64"
      ]
     },
     "execution_count": 616,
     "metadata": {},
     "output_type": "execute_result"
    }
   ],
   "source": [
    "train['mem_ot'].describe()"
   ]
  },
  {
   "cell_type": "code",
   "execution_count": 617,
   "metadata": {},
   "outputs": [],
   "source": [
    "train_ot1 = train[train['mem_ot'] < 11]\n",
    "train_ot2 = train[(train['mem_ot'] >= 11) & (train['mem_ot'] < 310)]\n",
    "train_ot3 = train[(train['mem_ot'] >= 310) & (train['mem_ot'] < 458)]\n",
    "train_ot4 = train[train['mem_ot'] >= 458]"
   ]
  },
  {
   "cell_type": "code",
   "execution_count": 618,
   "metadata": {},
   "outputs": [
    {
     "data": {
      "text/plain": [
       "[Text(0, 0, 'mem_ot < 11\\ngroup1'),\n",
       " Text(0, 0, '11 <= mem_ot < 310\\ngroup2'),\n",
       " Text(0, 0, '310 <= mem_ot < 458\\ngroup3'),\n",
       " Text(0, 0, '458 <= mem_ot\\ngroup4')]"
      ]
     },
     "execution_count": 618,
     "metadata": {},
     "output_type": "execute_result"
    },
    {
     "data": {
      "image/png": "[encoded data removed]",
      "text/plain": [
       "<Figure size 576x360 with 1 Axes>"
      ]
     },
     "metadata": {
      "needs_background": "light"
     },
     "output_type": "display_data"
    }
   ],
   "source": [
    "fig5, ax5 = plt.subplots(nrows = 1, ncols = 1 , figsize = (8,5))\n",
    "ax5.boxplot([train_ot1['dinner_num'], train_ot2['dinner_num'], train_ot3['dinner_num'], train_ot4['dinner_num']])\n",
    "ax5.set_xticklabels(['mem_ot < 11\\ngroup1', '11 <= mem_ot < 310\\ngroup2', '310 <= mem_ot < 458\\ngroup3', '458 <= mem_ot\\ngroup4'])"
   ]
  },
  {
   "cell_type": "code",
   "execution_count": 619,
   "metadata": {},
   "outputs": [],
   "source": [
    "# 7번가설 train_7 copy\n",
    "train_7 = train.copy()"
   ]
  },
  {
   "cell_type": "code",
   "execution_count": 620,
   "metadata": {},
   "outputs": [],
   "source": [
    "# 분위수를 기준으로 그룹 나누기\n",
    "train_7['mem_ot_g'] = pd.cut(train_7['mem_ot'], bins = [-1, 11, 310, 458, 1045], labels = [0,1,2,3])"
   ]
  },
  {
   "cell_type": "code",
   "execution_count": 621,
   "metadata": {},
   "outputs": [
    {
     "data": {
      "text/plain": [
       "0       1\n",
       "1       2\n",
       "2       1\n",
       "3       2\n",
       "4       1\n",
       "       ..\n",
       "1156    0\n",
       "1157    3\n",
       "1158    0\n",
       "1159    3\n",
       "1160    3\n",
       "Name: mem_ot_g, Length: 1161, dtype: category\n",
       "Categories (4, int64): [0 < 1 < 2 < 3]"
      ]
     },
     "execution_count": 621,
     "metadata": {},
     "output_type": "execute_result"
    }
   ],
   "source": [
    "train_7['mem_ot_g']"
   ]
  },
  {
   "cell_type": "code",
   "execution_count": 622,
   "metadata": {},
   "outputs": [],
   "source": [
    "spp = train_7.loc[:,['dinner_num','mem_ot_g']]"
   ]
  },
  {
   "cell_type": "code",
   "execution_count": 623,
   "metadata": {},
   "outputs": [
    {
     "data": {
      "text/html": [
       "<div>\n",
       "<style scoped>\n",
       "    .dataframe tbody tr th:only-of-type {\n",
       "        vertical-align: middle;\n",
       "    }\n",
       "\n",
       "    .dataframe tbody tr th {\n",
       "        vertical-align: top;\n",
       "    }\n",
       "\n",
       "    .dataframe thead th {\n",
       "        text-align: right;\n",
       "    }\n",
       "</style>\n",
       "<table border=\"1\" class=\"dataframe\">\n",
       "  <thead>\n",
       "    <tr style=\"text-align: right;\">\n",
       "      <th></th>\n",
       "      <th>dinner_num</th>\n",
       "    </tr>\n",
       "    <tr>\n",
       "      <th>mem_ot_g</th>\n",
       "      <th></th>\n",
       "    </tr>\n",
       "  </thead>\n",
       "  <tbody>\n",
       "    <tr>\n",
       "      <td>0</td>\n",
       "      <td>291</td>\n",
       "    </tr>\n",
       "    <tr>\n",
       "      <td>1</td>\n",
       "      <td>291</td>\n",
       "    </tr>\n",
       "    <tr>\n",
       "      <td>2</td>\n",
       "      <td>289</td>\n",
       "    </tr>\n",
       "    <tr>\n",
       "      <td>3</td>\n",
       "      <td>290</td>\n",
       "    </tr>\n",
       "  </tbody>\n",
       "</table>\n",
       "</div>"
      ],
      "text/plain": [
       "          dinner_num\n",
       "mem_ot_g            \n",
       "0                291\n",
       "1                291\n",
       "2                289\n",
       "3                290"
      ]
     },
     "execution_count": 623,
     "metadata": {},
     "output_type": "execute_result"
    }
   ],
   "source": [
    "# 확인\n",
    "spp.groupby('mem_ot_g').count()"
   ]
  },
  {
   "cell_type": "code",
   "execution_count": 624,
   "metadata": {},
   "outputs": [],
   "source": [
    "sp = np.array(spp)\n",
    "group1 = sp[sp[: ,1] == 0,0]\n",
    "group2 = sp[sp[: ,1] == 1,0]\n",
    "group3 = sp[sp[: ,1] == 2,0]\n",
    "group4 = sp[sp[: ,1] == 3,0]"
   ]
  },
  {
   "cell_type": "code",
   "execution_count": 625,
   "metadata": {},
   "outputs": [],
   "source": [
    "plot_sp = [group1, group2, group3, group4]"
   ]
  },
  {
   "cell_type": "code",
   "execution_count": 626,
   "metadata": {},
   "outputs": [
    {
     "data": {
      "text/plain": [
       "[Text(0, 0, 'mem_ot < 11'),\n",
       " Text(0, 0, '11 <= mem_ot < 310'),\n",
       " Text(0, 0, '310 <= mem_ot < 458'),\n",
       " Text(0, 0, '458 <= mem_ot')]"
      ]
     },
     "execution_count": 626,
     "metadata": {},
     "output_type": "execute_result"
    },
    {
     "data": {
      "image/png": "[encoded data removed]",
      "text/plain": [
       "<Figure size 576x360 with 1 Axes>"
      ]
     },
     "metadata": {
      "needs_background": "light"
     },
     "output_type": "display_data"
    }
   ],
   "source": [
    "fig5, ax5 = plt.subplots(nrows = 1, ncols = 1 , figsize = (8,5))\n",
    "ax5.boxplot(plot_sp)\n",
    "ax5.set_xticklabels(['mem_ot < 11', '11 <= mem_ot < 310', '310 <= mem_ot < 458', '458 <= mem_ot'])"
   ]
  },
  {
   "cell_type": "code",
   "execution_count": 627,
   "metadata": {},
   "outputs": [
    {
     "data": {
      "text/plain": [
       "4.4141962787881275e-84"
      ]
     },
     "execution_count": 627,
     "metadata": {},
     "output_type": "execute_result"
    }
   ],
   "source": [
    "_, pval = stats.f_oneway(group1, group2, group3, group4)\n",
    "\n",
    "pval"
   ]
  },
  {
   "cell_type": "code",
   "execution_count": 628,
   "metadata": {},
   "outputs": [
    {
     "data": {
      "text/plain": [
       "KruskalResult(statistic=358.60321509746495, pvalue=2.045287872172684e-77)"
      ]
     },
     "execution_count": 628,
     "metadata": {},
     "output_type": "execute_result"
    }
   ],
   "source": [
    "stats.kruskal(group1, group2, group3, group4)"
   ]
  },
  {
   "cell_type": "code",
   "execution_count": 629,
   "metadata": {},
   "outputs": [
    {
     "name": "stdout",
     "output_type": "stream",
     "text": [
      "========================================\n",
      "group1\n",
      "1.0     vs group1\n",
      "9.78058113341322e-11     vs group2\n",
      "2.2137106993412654e-50     vs group3\n",
      "3.41521999161864e-64     vs group4\n",
      "========================================\n",
      "group2\n",
      "9.78058113341322e-11     vs group1\n",
      "1.0     vs group2\n",
      "2.6219817819803154e-16     vs group3\n",
      "3.6537336819460045e-29     vs group4\n",
      "========================================\n",
      "group3\n",
      "2.2137106993412654e-50     vs group1\n",
      "2.6219817819803154e-16     vs group2\n",
      "1.0     vs group3\n",
      "1.2537514764110131e-06     vs group4\n",
      "========================================\n",
      "group4\n",
      "3.41521999161864e-64     vs group1\n",
      "3.6537336819460045e-29     vs group2\n",
      "1.2537514764110131e-06     vs group3\n",
      "1.0     vs group4\n",
      "========================================\n"
     ]
    }
   ],
   "source": [
    "a = [group1, group2, group3, group4]\n",
    "b = ['group1','group2','group3','group4']\n",
    "print('=' * 40)\n",
    "for i in range(4):\n",
    "    print(b[i])\n",
    "    for j in range(4):\n",
    "        _, pval = stats.levene(a[i], a[j])\n",
    "        if pval > 0.05:\n",
    "            _2, pval_t = ttest_ind(a[i], a[j], equal_var = True)\n",
    "            print(pval_t,'    vs', b[j])\n",
    "        else :\n",
    "            _2, pval_t = ttest_ind(a[i], a[j], equal_var = False)\n",
    "            print(pval_t,'    vs', b[j])\n",
    "    print('=' * 40)"
   ]
  },
  {
   "cell_type": "markdown",
   "metadata": {},
   "source": [
    "# **가설검정 끝**\n",
    "# =====================================================  \n",
    "# **모델링**"
   ]
  },
  {
   "cell_type": "code",
   "execution_count": 630,
   "metadata": {},
   "outputs": [
    {
     "data": {
      "text/plain": [
       "Index(['date', 'week', 'mem_tot', 'mem_va', 'mem_bt', 'mem_ot', 'mem_hj',\n",
       "       'lunch_num', 'dinner_num', 'lunch_tem', 'lunch_rain', 'dinner_tem',\n",
       "       'dinner_rain', 'mem_poss', 'month', 'day', 'holi_be', 'holi_af',\n",
       "       'summer1', 'year_end'],\n",
       "      dtype='object')"
      ]
     },
     "execution_count": 630,
     "metadata": {},
     "output_type": "execute_result"
    }
   ],
   "source": [
    "train.columns"
   ]
  },
  {
   "cell_type": "code",
   "execution_count": 631,
   "metadata": {},
   "outputs": [],
   "source": [
    "feature = ['month','day','week','mem_poss','mem_ot','mem_hj','lunch_tem','lunch_rain',\n",
    "           'dinner_tem','dinner_rain','holi_be','holi_af','summer1','year_end']"
   ]
  },
  {
   "cell_type": "code",
   "execution_count": 632,
   "metadata": {},
   "outputs": [],
   "source": [
    "target = ['lunch_num','dinner_num']"
   ]
  },
  {
   "cell_type": "code",
   "execution_count": 633,
   "metadata": {},
   "outputs": [],
   "source": [
    "train_model = train[feature+target]"
   ]
  },
  {
   "cell_type": "code",
   "execution_count": 634,
   "metadata": {},
   "outputs": [
    {
     "data": {
      "text/html": [
       "<div>\n",
       "<style scoped>\n",
       "    .dataframe tbody tr th:only-of-type {\n",
       "        vertical-align: middle;\n",
       "    }\n",
       "\n",
       "    .dataframe tbody tr th {\n",
       "        vertical-align: top;\n",
       "    }\n",
       "\n",
       "    .dataframe thead th {\n",
       "        text-align: right;\n",
       "    }\n",
       "</style>\n",
       "<table border=\"1\" class=\"dataframe\">\n",
       "  <thead>\n",
       "    <tr style=\"text-align: right;\">\n",
       "      <th></th>\n",
       "      <th>month</th>\n",
       "      <th>day</th>\n",
       "      <th>week</th>\n",
       "      <th>mem_poss</th>\n",
       "      <th>mem_ot</th>\n",
       "      <th>mem_hj</th>\n",
       "      <th>lunch_tem</th>\n",
       "      <th>lunch_rain</th>\n",
       "      <th>dinner_tem</th>\n",
       "      <th>dinner_rain</th>\n",
       "      <th>holi_be</th>\n",
       "      <th>holi_af</th>\n",
       "      <th>summer1</th>\n",
       "      <th>year_end</th>\n",
       "      <th>lunch_num</th>\n",
       "      <th>dinner_num</th>\n",
       "    </tr>\n",
       "  </thead>\n",
       "  <tbody>\n",
       "    <tr>\n",
       "      <td>0</td>\n",
       "      <td>2.0</td>\n",
       "      <td>1.0</td>\n",
       "      <td>월</td>\n",
       "      <td>2401.0</td>\n",
       "      <td>238.0</td>\n",
       "      <td>0.0</td>\n",
       "      <td>3.0</td>\n",
       "      <td>0.0</td>\n",
       "      <td>0.9</td>\n",
       "      <td>0.0</td>\n",
       "      <td>0.0</td>\n",
       "      <td>1.0</td>\n",
       "      <td>0.0</td>\n",
       "      <td>0.0</td>\n",
       "      <td>1039.0</td>\n",
       "      <td>331.0</td>\n",
       "    </tr>\n",
       "    <tr>\n",
       "      <td>1</td>\n",
       "      <td>2.0</td>\n",
       "      <td>2.0</td>\n",
       "      <td>화</td>\n",
       "      <td>2378.0</td>\n",
       "      <td>319.0</td>\n",
       "      <td>0.0</td>\n",
       "      <td>1.7</td>\n",
       "      <td>0.0</td>\n",
       "      <td>2.4</td>\n",
       "      <td>0.0</td>\n",
       "      <td>0.0</td>\n",
       "      <td>0.0</td>\n",
       "      <td>0.0</td>\n",
       "      <td>0.0</td>\n",
       "      <td>867.0</td>\n",
       "      <td>560.0</td>\n",
       "    </tr>\n",
       "    <tr>\n",
       "      <td>2</td>\n",
       "      <td>2.0</td>\n",
       "      <td>3.0</td>\n",
       "      <td>수</td>\n",
       "      <td>2365.0</td>\n",
       "      <td>111.0</td>\n",
       "      <td>0.0</td>\n",
       "      <td>3.2</td>\n",
       "      <td>0.0</td>\n",
       "      <td>3.0</td>\n",
       "      <td>0.0</td>\n",
       "      <td>0.0</td>\n",
       "      <td>0.0</td>\n",
       "      <td>0.0</td>\n",
       "      <td>0.0</td>\n",
       "      <td>1017.0</td>\n",
       "      <td>573.0</td>\n",
       "    </tr>\n",
       "    <tr>\n",
       "      <td>3</td>\n",
       "      <td>2.0</td>\n",
       "      <td>4.0</td>\n",
       "      <td>목</td>\n",
       "      <td>2277.0</td>\n",
       "      <td>355.0</td>\n",
       "      <td>0.0</td>\n",
       "      <td>3.7</td>\n",
       "      <td>0.0</td>\n",
       "      <td>4.0</td>\n",
       "      <td>0.0</td>\n",
       "      <td>0.0</td>\n",
       "      <td>0.0</td>\n",
       "      <td>0.0</td>\n",
       "      <td>0.0</td>\n",
       "      <td>978.0</td>\n",
       "      <td>525.0</td>\n",
       "    </tr>\n",
       "    <tr>\n",
       "      <td>4</td>\n",
       "      <td>2.0</td>\n",
       "      <td>5.0</td>\n",
       "      <td>금</td>\n",
       "      <td>2142.0</td>\n",
       "      <td>34.0</td>\n",
       "      <td>0.0</td>\n",
       "      <td>6.3</td>\n",
       "      <td>0.0</td>\n",
       "      <td>5.7</td>\n",
       "      <td>0.0</td>\n",
       "      <td>1.0</td>\n",
       "      <td>0.0</td>\n",
       "      <td>0.0</td>\n",
       "      <td>0.0</td>\n",
       "      <td>925.0</td>\n",
       "      <td>330.0</td>\n",
       "    </tr>\n",
       "    <tr>\n",
       "      <td>...</td>\n",
       "      <td>...</td>\n",
       "      <td>...</td>\n",
       "      <td>...</td>\n",
       "      <td>...</td>\n",
       "      <td>...</td>\n",
       "      <td>...</td>\n",
       "      <td>...</td>\n",
       "      <td>...</td>\n",
       "      <td>...</td>\n",
       "      <td>...</td>\n",
       "      <td>...</td>\n",
       "      <td>...</td>\n",
       "      <td>...</td>\n",
       "      <td>...</td>\n",
       "      <td>...</td>\n",
       "      <td>...</td>\n",
       "    </tr>\n",
       "    <tr>\n",
       "      <td>1156</td>\n",
       "      <td>1.0</td>\n",
       "      <td>20.0</td>\n",
       "      <td>수</td>\n",
       "      <td>2319.0</td>\n",
       "      <td>4.0</td>\n",
       "      <td>391.0</td>\n",
       "      <td>4.8</td>\n",
       "      <td>0.0</td>\n",
       "      <td>6.7</td>\n",
       "      <td>0.0</td>\n",
       "      <td>0.0</td>\n",
       "      <td>0.0</td>\n",
       "      <td>0.0</td>\n",
       "      <td>0.0</td>\n",
       "      <td>1093.0</td>\n",
       "      <td>421.0</td>\n",
       "    </tr>\n",
       "    <tr>\n",
       "      <td>1157</td>\n",
       "      <td>1.0</td>\n",
       "      <td>21.0</td>\n",
       "      <td>목</td>\n",
       "      <td>2309.0</td>\n",
       "      <td>462.0</td>\n",
       "      <td>351.0</td>\n",
       "      <td>9.1</td>\n",
       "      <td>0.0</td>\n",
       "      <td>9.6</td>\n",
       "      <td>0.0</td>\n",
       "      <td>0.0</td>\n",
       "      <td>0.0</td>\n",
       "      <td>0.0</td>\n",
       "      <td>0.0</td>\n",
       "      <td>832.0</td>\n",
       "      <td>353.0</td>\n",
       "    </tr>\n",
       "    <tr>\n",
       "      <td>1158</td>\n",
       "      <td>1.0</td>\n",
       "      <td>22.0</td>\n",
       "      <td>금</td>\n",
       "      <td>2177.0</td>\n",
       "      <td>1.0</td>\n",
       "      <td>303.0</td>\n",
       "      <td>8.4</td>\n",
       "      <td>0.0</td>\n",
       "      <td>8.0</td>\n",
       "      <td>0.0</td>\n",
       "      <td>1.0</td>\n",
       "      <td>0.0</td>\n",
       "      <td>0.0</td>\n",
       "      <td>0.0</td>\n",
       "      <td>579.0</td>\n",
       "      <td>217.0</td>\n",
       "    </tr>\n",
       "    <tr>\n",
       "      <td>1159</td>\n",
       "      <td>1.0</td>\n",
       "      <td>25.0</td>\n",
       "      <td>월</td>\n",
       "      <td>2396.0</td>\n",
       "      <td>616.0</td>\n",
       "      <td>327.0</td>\n",
       "      <td>11.3</td>\n",
       "      <td>0.0</td>\n",
       "      <td>10.2</td>\n",
       "      <td>0.0</td>\n",
       "      <td>0.0</td>\n",
       "      <td>1.0</td>\n",
       "      <td>0.0</td>\n",
       "      <td>0.0</td>\n",
       "      <td>1145.0</td>\n",
       "      <td>502.0</td>\n",
       "    </tr>\n",
       "    <tr>\n",
       "      <td>1160</td>\n",
       "      <td>1.0</td>\n",
       "      <td>26.0</td>\n",
       "      <td>화</td>\n",
       "      <td>2369.0</td>\n",
       "      <td>551.0</td>\n",
       "      <td>362.0</td>\n",
       "      <td>6.2</td>\n",
       "      <td>4.2</td>\n",
       "      <td>6.2</td>\n",
       "      <td>0.6</td>\n",
       "      <td>0.0</td>\n",
       "      <td>0.0</td>\n",
       "      <td>0.0</td>\n",
       "      <td>0.0</td>\n",
       "      <td>1015.0</td>\n",
       "      <td>480.0</td>\n",
       "    </tr>\n",
       "  </tbody>\n",
       "</table>\n",
       "<p>1161 rows × 16 columns</p>\n",
       "</div>"
      ],
      "text/plain": [
       "      month   day week  mem_poss  mem_ot  mem_hj  lunch_tem  lunch_rain  \\\n",
       "0       2.0   1.0    월    2401.0   238.0     0.0        3.0         0.0   \n",
       "1       2.0   2.0    화    2378.0   319.0     0.0        1.7         0.0   \n",
       "2       2.0   3.0    수    2365.0   111.0     0.0        3.2         0.0   \n",
       "3       2.0   4.0    목    2277.0   355.0     0.0        3.7         0.0   \n",
       "4       2.0   5.0    금    2142.0    34.0     0.0        6.3         0.0   \n",
       "...     ...   ...  ...       ...     ...     ...        ...         ...   \n",
       "1156    1.0  20.0    수    2319.0     4.0   391.0        4.8         0.0   \n",
       "1157    1.0  21.0    목    2309.0   462.0   351.0        9.1         0.0   \n",
       "1158    1.0  22.0    금    2177.0     1.0   303.0        8.4         0.0   \n",
       "1159    1.0  25.0    월    2396.0   616.0   327.0       11.3         0.0   \n",
       "1160    1.0  26.0    화    2369.0   551.0   362.0        6.2         4.2   \n",
       "\n",
       "      dinner_tem  dinner_rain  holi_be  holi_af  summer1  year_end  lunch_num  \\\n",
       "0            0.9          0.0      0.0      1.0      0.0       0.0     1039.0   \n",
       "1            2.4          0.0      0.0      0.0      0.0       0.0      867.0   \n",
       "2            3.0          0.0      0.0      0.0      0.0       0.0     1017.0   \n",
       "3            4.0          0.0      0.0      0.0      0.0       0.0      978.0   \n",
       "4            5.7          0.0      1.0      0.0      0.0       0.0      925.0   \n",
       "...          ...          ...      ...      ...      ...       ...        ...   \n",
       "1156         6.7          0.0      0.0      0.0      0.0       0.0     1093.0   \n",
       "1157         9.6          0.0      0.0      0.0      0.0       0.0      832.0   \n",
       "1158         8.0          0.0      1.0      0.0      0.0       0.0      579.0   \n",
       "1159        10.2          0.0      0.0      1.0      0.0       0.0     1145.0   \n",
       "1160         6.2          0.6      0.0      0.0      0.0       0.0     1015.0   \n",
       "\n",
       "      dinner_num  \n",
       "0          331.0  \n",
       "1          560.0  \n",
       "2          573.0  \n",
       "3          525.0  \n",
       "4          330.0  \n",
       "...          ...  \n",
       "1156       421.0  \n",
       "1157       353.0  \n",
       "1158       217.0  \n",
       "1159       502.0  \n",
       "1160       480.0  \n",
       "\n",
       "[1161 rows x 16 columns]"
      ]
     },
     "execution_count": 634,
     "metadata": {},
     "output_type": "execute_result"
    }
   ],
   "source": [
    "train_model"
   ]
  },
  {
   "cell_type": "code",
   "execution_count": 635,
   "metadata": {},
   "outputs": [],
   "source": [
    "from sklearn.model_selection import train_test_split\n",
    "from sklearn.metrics import mean_squared_error\n",
    "from sklearn.metrics import mean_absolute_error"
   ]
  },
  {
   "cell_type": "code",
   "execution_count": 636,
   "metadata": {},
   "outputs": [],
   "source": [
    "x_l = train_model[['month', 'day', 'mem_poss', 'mem_ot', 'lunch_tem','lunch_rain',\n",
    "                   'holi_be','holi_af','summer1','year_end']]\n",
    "y_l = train_model['lunch_num']\n",
    "\n",
    "x_d = train_model[['month', 'day', 'mem_poss', 'mem_ot', 'dinner_tem','dinner_rain',\n",
    "                   'holi_be','holi_af','summer1','year_end']]\n",
    "y_d = train_model['dinner_num']"
   ]
  },
  {
   "cell_type": "code",
   "execution_count": 637,
   "metadata": {},
   "outputs": [],
   "source": [
    "x_l_train, x_l_test, y_l_train, y_l_test = train_test_split(x_l, y_l, test_size=0.3, shuffle=True, random_state=1004)\n",
    "x_d_train, x_d_test, y_d_train, y_d_test = train_test_split(x_d, y_d, test_size=0.3, shuffle=True, random_state=1004)"
   ]
  },
  {
   "cell_type": "markdown",
   "metadata": {},
   "source": [
    "### **코로나 이전**"
   ]
  },
  {
   "cell_type": "code",
   "execution_count": 638,
   "metadata": {},
   "outputs": [],
   "source": [
    "bc_model = before_corona[feature+target]"
   ]
  },
  {
   "cell_type": "code",
   "execution_count": 639,
   "metadata": {},
   "outputs": [],
   "source": [
    "x_bc_l = bc_model[['month', 'day', 'mem_poss', 'mem_ot', 'lunch_tem','lunch_rain','holi_be','holi_af','summer1','year_end']]\n",
    "y_bc_l = bc_model['lunch_num']\n",
    "x_bc_d = bc_model[['month', 'day', 'mem_poss', 'mem_ot', 'dinner_tem','dinner_rain','holi_be','holi_af','summer1','year_end']]\n",
    "y_bc_d = bc_model['dinner_num']"
   ]
  },
  {
   "cell_type": "code",
   "execution_count": 640,
   "metadata": {},
   "outputs": [],
   "source": [
    "x_bc_l_train, x_bc_l_test, y_bc_l_train, y_bc_l_test = train_test_split(x_bc_l, y_bc_l, test_size=0.3, shuffle=True, random_state=1004)\n",
    "x_bc_d_train, x_bc_d_test, y_bc_d_train, y_bc_d_test = train_test_split(x_bc_d, y_bc_d, test_size=0.3, shuffle=True, random_state=1004)"
   ]
  },
  {
   "cell_type": "markdown",
   "metadata": {},
   "source": [
    "### **코로나 이후**"
   ]
  },
  {
   "cell_type": "code",
   "execution_count": 641,
   "metadata": {},
   "outputs": [],
   "source": [
    "ac_model = after_corona[feature+target]"
   ]
  },
  {
   "cell_type": "code",
   "execution_count": 642,
   "metadata": {},
   "outputs": [],
   "source": [
    "x_ac_l = ac_model[['month', 'day', 'mem_poss', 'mem_ot', 'lunch_tem','lunch_rain','holi_be','holi_af','summer1','year_end']]\n",
    "y_ac_l = ac_model['lunch_num']\n",
    "x_ac_d = ac_model[['month', 'day', 'mem_poss', 'mem_ot', 'dinner_tem','dinner_rain','holi_be','holi_af','summer1','year_end']]\n",
    "y_ac_d = ac_model['dinner_num']"
   ]
  },
  {
   "cell_type": "code",
   "execution_count": 643,
   "metadata": {},
   "outputs": [],
   "source": [
    "x_ac_l_train, x_ac_l_test, y_ac_l_train, y_ac_l_test = train_test_split(x_ac_l, y_ac_l, test_size=0.3, shuffle=True, random_state=1004)\n",
    "x_ac_d_train, x_ac_d_test, y_ac_d_train, y_ac_d_test = train_test_split(x_ac_d, y_ac_d, test_size=0.3, shuffle=True, random_state=1004)"
   ]
  },
  {
   "cell_type": "markdown",
   "metadata": {},
   "source": [
    "# **RandomForestRegressor**"
   ]
  },
  {
   "cell_type": "code",
   "execution_count": 644,
   "metadata": {},
   "outputs": [
    {
     "data": {
      "text/plain": [
       "0.7112773457371271"
      ]
     },
     "execution_count": 644,
     "metadata": {},
     "output_type": "execute_result"
    }
   ],
   "source": [
    "from sklearn.ensemble import RandomForestRegressor\n",
    "rf_l = RandomForestRegressor()\n",
    "rf_l.fit(x_l_train, y_l_train)\n",
    "rf_l.score(x_l_test, y_l_test)"
   ]
  },
  {
   "cell_type": "code",
   "execution_count": 645,
   "metadata": {},
   "outputs": [
    {
     "data": {
      "image/png": "[encoded data removed]",
      "text/plain": [
       "<Figure size 432x288 with 1 Axes>"
      ]
     },
     "metadata": {
      "needs_background": "light"
     },
     "output_type": "display_data"
    }
   ],
   "source": [
    "ft_importance_values = rf_l.feature_importances_\n",
    "ft_series = pd.Series(ft_importance_values, index = x_l.columns)\n",
    "ft_top = ft_series.sort_values(ascending=False)\n",
    "plt.figure()\n",
    "g = sns.barplot(x = ft_top, y = ft_top.index)\n",
    "g\n",
    "plt.show()"
   ]
  },
  {
   "cell_type": "code",
   "execution_count": 646,
   "metadata": {},
   "outputs": [
    {
     "data": {
      "text/plain": [
       "0.4974296282994087"
      ]
     },
     "execution_count": 646,
     "metadata": {},
     "output_type": "execute_result"
    }
   ],
   "source": [
    "rf_d = RandomForestRegressor()\n",
    "rf_d.fit(x_d_train, y_d_train)\n",
    "rf_d.score(x_d_test, y_d_test)"
   ]
  },
  {
   "cell_type": "code",
   "execution_count": 647,
   "metadata": {},
   "outputs": [
    {
     "data": {
      "image/png": "[encoded data removed]",
      "text/plain": [
       "<Figure size 432x288 with 1 Axes>"
      ]
     },
     "metadata": {
      "needs_background": "light"
     },
     "output_type": "display_data"
    }
   ],
   "source": [
    "ft_importance_values = rf_d.feature_importances_\n",
    "ft_series = pd.Series(ft_importance_values, index = x_d.columns)\n",
    "ft_top = ft_series.sort_values(ascending=False)\n",
    "plt.figure()\n",
    "g = sns.barplot(x = ft_top, y = ft_top.index)\n",
    "g\n",
    "plt.show()"
   ]
  },
  {
   "cell_type": "markdown",
   "metadata": {},
   "source": [
    "# =======================================  \n",
    "## **코로나 이전**"
   ]
  },
  {
   "cell_type": "code",
   "execution_count": 648,
   "metadata": {},
   "outputs": [
    {
     "data": {
      "text/plain": [
       "0.7515622568548376"
      ]
     },
     "execution_count": 648,
     "metadata": {},
     "output_type": "execute_result"
    }
   ],
   "source": [
    "rf_bc_l = RandomForestRegressor()\n",
    "rf_bc_l.fit(x_bc_l_train, y_bc_l_train)\n",
    "rf_bc_l.score(x_bc_l_test, y_bc_l_test)"
   ]
  },
  {
   "cell_type": "code",
   "execution_count": 649,
   "metadata": {},
   "outputs": [
    {
     "data": {
      "image/png": "[encoded data removed]",
      "text/plain": [
       "<Figure size 432x288 with 1 Axes>"
      ]
     },
     "metadata": {
      "needs_background": "light"
     },
     "output_type": "display_data"
    }
   ],
   "source": [
    "ft_importance_values = rf_bc_l.feature_importances_\n",
    "ft_series = pd.Series(ft_importance_values, index = x_bc_l.columns)\n",
    "ft_top = ft_series.sort_values(ascending=False)\n",
    "plt.figure()\n",
    "g = sns.barplot(x = ft_top, y = ft_top.index)\n",
    "g\n",
    "plt.show()"
   ]
  },
  {
   "cell_type": "code",
   "execution_count": 650,
   "metadata": {},
   "outputs": [
    {
     "data": {
      "text/plain": [
       "0.45734740135342306"
      ]
     },
     "execution_count": 650,
     "metadata": {},
     "output_type": "execute_result"
    }
   ],
   "source": [
    "rf_bc_d = RandomForestRegressor()\n",
    "rf_bc_d.fit(x_bc_d_train, y_bc_d_train)\n",
    "rf_bc_d.score(x_bc_d_test, y_bc_d_test)"
   ]
  },
  {
   "cell_type": "code",
   "execution_count": 651,
   "metadata": {},
   "outputs": [
    {
     "data": {
      "image/png": "[encoded data removed]",
      "text/plain": [
       "<Figure size 432x288 with 1 Axes>"
      ]
     },
     "metadata": {
      "needs_background": "light"
     },
     "output_type": "display_data"
    }
   ],
   "source": [
    "ft_importance_values = rf_bc_d.feature_importances_\n",
    "ft_series = pd.Series(ft_importance_values, index = x_bc_d.columns)\n",
    "ft_top = ft_series.sort_values(ascending=False)\n",
    "plt.figure()\n",
    "g = sns.barplot(x = ft_top, y = ft_top.index)\n",
    "g\n",
    "plt.show()"
   ]
  },
  {
   "cell_type": "markdown",
   "metadata": {},
   "source": [
    "# =======================================  \n",
    "## **코로나 이후**"
   ]
  },
  {
   "cell_type": "code",
   "execution_count": 652,
   "metadata": {},
   "outputs": [
    {
     "data": {
      "text/plain": [
       "0.4544520882850585"
      ]
     },
     "execution_count": 652,
     "metadata": {},
     "output_type": "execute_result"
    }
   ],
   "source": [
    "rf_ac_l = RandomForestRegressor()\n",
    "rf_ac_l.fit(x_ac_l_train, y_ac_l_train)\n",
    "rf_ac_l.score(x_ac_l_test, y_ac_l_test)"
   ]
  },
  {
   "cell_type": "code",
   "execution_count": 653,
   "metadata": {},
   "outputs": [
    {
     "data": {
      "image/png": "[encoded data removed]",
      "text/plain": [
       "<Figure size 432x288 with 1 Axes>"
      ]
     },
     "metadata": {
      "needs_background": "light"
     },
     "output_type": "display_data"
    }
   ],
   "source": [
    "ft_importance_values = rf_ac_l.feature_importances_\n",
    "ft_series = pd.Series(ft_importance_values, index = x_ac_l.columns)\n",
    "ft_top = ft_series.sort_values(ascending=False)\n",
    "plt.figure()\n",
    "g = sns.barplot(x = ft_top, y = ft_top.index)\n",
    "g\n",
    "plt.show()"
   ]
  },
  {
   "cell_type": "code",
   "execution_count": 654,
   "metadata": {},
   "outputs": [
    {
     "data": {
      "text/plain": [
       "0.7793960766932063"
      ]
     },
     "execution_count": 654,
     "metadata": {},
     "output_type": "execute_result"
    }
   ],
   "source": [
    "rf_ac_d = RandomForestRegressor()\n",
    "rf_ac_d.fit(x_ac_d_train, y_ac_d_train)\n",
    "rf_ac_d.score(x_ac_d_test, y_ac_d_test)"
   ]
  },
  {
   "cell_type": "code",
   "execution_count": 655,
   "metadata": {},
   "outputs": [
    {
     "data": {
      "image/png": "[encoded data removed]",
      "text/plain": [
       "<Figure size 432x288 with 1 Axes>"
      ]
     },
     "metadata": {
      "needs_background": "light"
     },
     "output_type": "display_data"
    }
   ],
   "source": [
    "ft_importance_values = rf_ac_d.feature_importances_\n",
    "ft_series = pd.Series(ft_importance_values, index = x_ac_d.columns)\n",
    "ft_top = ft_series.sort_values(ascending=False)\n",
    "plt.figure()\n",
    "g = sns.barplot(x = ft_top, y = ft_top.index)\n",
    "g\n",
    "plt.show()"
   ]
  },
  {
   "cell_type": "markdown",
   "metadata": {},
   "source": [
    "# ========================================="
   ]
  },
  {
   "cell_type": "markdown",
   "metadata": {},
   "source": [
    "# **XGBoost**"
   ]
  },
  {
   "cell_type": "code",
   "execution_count": 656,
   "metadata": {},
   "outputs": [],
   "source": [
    "from sklearn.model_selection import KFold, cross_val_score, train_test_split\n",
    "from sklearn.metrics import mean_squared_error\n",
    "from xgboost import XGBRegressor\n",
    "import xgboost as xgb\n",
    "import lightgbm as lgb\n",
    "from sklearn.preprocessing import RobustScaler"
   ]
  },
  {
   "cell_type": "code",
   "execution_count": 657,
   "metadata": {},
   "outputs": [
    {
     "name": "stdout",
     "output_type": "stream",
     "text": [
      "[16:17:05] WARNING: src/objective/regression_obj.cu:152: reg:linear is now deprecated in favor of reg:squarederror.\n"
     ]
    },
    {
     "data": {
      "text/plain": [
       "XGBRegressor(base_score=0.5, booster='gbtree', colsample_bylevel=1,\n",
       "             colsample_bynode=1, colsample_bytree=1, gamma=0,\n",
       "             importance_type='gain', learning_rate=0.1, max_delta_step=0,\n",
       "             max_depth=3, min_child_weight=1, missing=None, n_estimators=100,\n",
       "             n_jobs=1, nthread=None, objective='reg:linear', random_state=0,\n",
       "             reg_alpha=0, reg_lambda=1, scale_pos_weight=1, seed=None,\n",
       "             silent=None, subsample=1, verbosity=1)"
      ]
     },
     "execution_count": 657,
     "metadata": {},
     "output_type": "execute_result"
    }
   ],
   "source": [
    "xg_l = XGBRegressor() \n",
    "xg_l.fit(x_l_train, y_l_train)"
   ]
  },
  {
   "cell_type": "code",
   "execution_count": 658,
   "metadata": {},
   "outputs": [
    {
     "name": "stdout",
     "output_type": "stream",
     "text": [
      "점심 식수인원 예측 score :  0.7447773997576094\n"
     ]
    },
    {
     "data": {
      "image/png": "[encoded data removed]",
      "text/plain": [
       "<Figure size 432x288 with 1 Axes>"
      ]
     },
     "metadata": {
      "needs_background": "light"
     },
     "output_type": "display_data"
    }
   ],
   "source": [
    "sns.scatterplot(y_l_test, xg_l.predict(x_l_test))\n",
    "print('점심 식수인원 예측 score : ',xg_l.score(x_l_test, y_l_test))"
   ]
  },
  {
   "cell_type": "code",
   "execution_count": 659,
   "metadata": {},
   "outputs": [
    {
     "name": "stdout",
     "output_type": "stream",
     "text": [
      "[16:17:06] WARNING: src/objective/regression_obj.cu:152: reg:linear is now deprecated in favor of reg:squarederror.\n"
     ]
    },
    {
     "data": {
      "text/plain": [
       "XGBRegressor(base_score=0.5, booster='gbtree', colsample_bylevel=1,\n",
       "             colsample_bynode=1, colsample_bytree=1, gamma=0,\n",
       "             importance_type='gain', learning_rate=0.1, max_delta_step=0,\n",
       "             max_depth=3, min_child_weight=1, missing=None, n_estimators=100,\n",
       "             n_jobs=1, nthread=None, objective='reg:linear', random_state=0,\n",
       "             reg_alpha=0, reg_lambda=1, scale_pos_weight=1, seed=None,\n",
       "             silent=None, subsample=1, verbosity=1)"
      ]
     },
     "execution_count": 659,
     "metadata": {},
     "output_type": "execute_result"
    }
   ],
   "source": [
    "xg_d = XGBRegressor() \n",
    "xg_d.fit(x_d_train, y_d_train)"
   ]
  },
  {
   "cell_type": "code",
   "execution_count": 660,
   "metadata": {},
   "outputs": [
    {
     "name": "stdout",
     "output_type": "stream",
     "text": [
      "저녁 식수인원 예측 score :  0.5462858717622264\n"
     ]
    },
    {
     "data": {
      "image/png": "[encoded data removed]",
      "text/plain": [
       "<Figure size 432x288 with 1 Axes>"
      ]
     },
     "metadata": {
      "needs_background": "light"
     },
     "output_type": "display_data"
    }
   ],
   "source": [
    "sns.scatterplot(y_d_test, xg_d.predict(x_d_test))\n",
    "print('저녁 식수인원 예측 score : ',xg_d.score(x_d_test, y_d_test))"
   ]
  },
  {
   "cell_type": "markdown",
   "metadata": {},
   "source": [
    "## **코로나 이전**"
   ]
  },
  {
   "cell_type": "code",
   "execution_count": 661,
   "metadata": {},
   "outputs": [
    {
     "name": "stdout",
     "output_type": "stream",
     "text": [
      "[16:17:06] WARNING: src/objective/regression_obj.cu:152: reg:linear is now deprecated in favor of reg:squarederror.\n"
     ]
    },
    {
     "data": {
      "text/plain": [
       "XGBRegressor(base_score=0.5, booster='gbtree', colsample_bylevel=1,\n",
       "             colsample_bynode=1, colsample_bytree=1, gamma=0,\n",
       "             importance_type='gain', learning_rate=0.1, max_delta_step=0,\n",
       "             max_depth=3, min_child_weight=1, missing=None, n_estimators=100,\n",
       "             n_jobs=1, nthread=None, objective='reg:linear', random_state=0,\n",
       "             reg_alpha=0, reg_lambda=1, scale_pos_weight=1, seed=None,\n",
       "             silent=None, subsample=1, verbosity=1)"
      ]
     },
     "execution_count": 661,
     "metadata": {},
     "output_type": "execute_result"
    }
   ],
   "source": [
    "xg_bc_l = XGBRegressor() \n",
    "xg_bc_l.fit(x_bc_l_train, y_bc_l_train)"
   ]
  },
  {
   "cell_type": "code",
   "execution_count": 662,
   "metadata": {},
   "outputs": [
    {
     "name": "stdout",
     "output_type": "stream",
     "text": [
      "코로나 이전 점심 식수인원 예측 score :  0.7545933443756944\n"
     ]
    },
    {
     "data": {
      "image/png": "[encoded data removed]",
      "text/plain": [
       "<Figure size 432x288 with 1 Axes>"
      ]
     },
     "metadata": {
      "needs_background": "light"
     },
     "output_type": "display_data"
    }
   ],
   "source": [
    "sns.scatterplot(y_bc_l_test, xg_bc_l.predict(x_bc_l_test))\n",
    "print('코로나 이전 점심 식수인원 예측 score : ',xg_bc_l.score(x_bc_l_test, y_bc_l_test))"
   ]
  },
  {
   "cell_type": "code",
   "execution_count": 663,
   "metadata": {},
   "outputs": [
    {
     "name": "stdout",
     "output_type": "stream",
     "text": [
      "[16:17:06] WARNING: src/objective/regression_obj.cu:152: reg:linear is now deprecated in favor of reg:squarederror.\n"
     ]
    },
    {
     "data": {
      "text/plain": [
       "XGBRegressor(base_score=0.5, booster='gbtree', colsample_bylevel=1,\n",
       "             colsample_bynode=1, colsample_bytree=1, gamma=0,\n",
       "             importance_type='gain', learning_rate=0.1, max_delta_step=0,\n",
       "             max_depth=3, min_child_weight=1, missing=None, n_estimators=100,\n",
       "             n_jobs=1, nthread=None, objective='reg:linear', random_state=0,\n",
       "             reg_alpha=0, reg_lambda=1, scale_pos_weight=1, seed=None,\n",
       "             silent=None, subsample=1, verbosity=1)"
      ]
     },
     "execution_count": 663,
     "metadata": {},
     "output_type": "execute_result"
    }
   ],
   "source": [
    "xg_bc_d = XGBRegressor()\n",
    "xg_bc_d.fit(x_bc_d_train, y_bc_d_train)"
   ]
  },
  {
   "cell_type": "code",
   "execution_count": 664,
   "metadata": {},
   "outputs": [
    {
     "name": "stdout",
     "output_type": "stream",
     "text": [
      "코로나 이전 저녁 식수인원 예측 score :  0.5509644717971985\n"
     ]
    },
    {
     "data": {
      "image/png": "[encoded data removed]",
      "text/plain": [
       "<Figure size 432x288 with 1 Axes>"
      ]
     },
     "metadata": {
      "needs_background": "light"
     },
     "output_type": "display_data"
    }
   ],
   "source": [
    "sns.scatterplot(y_bc_d_test, xg_bc_d.predict(x_bc_d_test))\n",
    "print('코로나 이전 저녁 식수인원 예측 score : ',xg_bc_d.score(x_bc_d_test, y_bc_d_test))"
   ]
  },
  {
   "cell_type": "markdown",
   "metadata": {},
   "source": [
    "## **코로나 이후**"
   ]
  },
  {
   "cell_type": "code",
   "execution_count": 665,
   "metadata": {},
   "outputs": [
    {
     "name": "stdout",
     "output_type": "stream",
     "text": [
      "[16:17:07] WARNING: src/objective/regression_obj.cu:152: reg:linear is now deprecated in favor of reg:squarederror.\n"
     ]
    },
    {
     "data": {
      "text/plain": [
       "XGBRegressor(base_score=0.5, booster='gbtree', colsample_bylevel=1,\n",
       "             colsample_bynode=1, colsample_bytree=1, gamma=0,\n",
       "             importance_type='gain', learning_rate=0.1, max_delta_step=0,\n",
       "             max_depth=3, min_child_weight=1, missing=None, n_estimators=100,\n",
       "             n_jobs=1, nthread=None, objective='reg:linear', random_state=0,\n",
       "             reg_alpha=0, reg_lambda=1, scale_pos_weight=1, seed=None,\n",
       "             silent=None, subsample=1, verbosity=1)"
      ]
     },
     "execution_count": 665,
     "metadata": {},
     "output_type": "execute_result"
    }
   ],
   "source": [
    "xg_ac_l = XGBRegressor()\n",
    "xg_ac_l.fit(x_ac_l_train, y_ac_l_train)"
   ]
  },
  {
   "cell_type": "code",
   "execution_count": 666,
   "metadata": {},
   "outputs": [
    {
     "name": "stdout",
     "output_type": "stream",
     "text": [
      "코로나 이후 점심 식수인원 예측 score :  0.5740874145466672\n"
     ]
    },
    {
     "data": {
      "image/png": "[encoded data removed]",
      "text/plain": [
       "<Figure size 432x288 with 1 Axes>"
      ]
     },
     "metadata": {
      "needs_background": "light"
     },
     "output_type": "display_data"
    }
   ],
   "source": [
    "sns.scatterplot(y_ac_l_test, xg_ac_l.predict(x_ac_l_test))\n",
    "print('코로나 이후 점심 식수인원 예측 score : ',xg_ac_l.score(x_ac_l_test, y_ac_l_test))"
   ]
  },
  {
   "cell_type": "code",
   "execution_count": 667,
   "metadata": {},
   "outputs": [
    {
     "name": "stdout",
     "output_type": "stream",
     "text": [
      "[16:17:07] WARNING: src/objective/regression_obj.cu:152: reg:linear is now deprecated in favor of reg:squarederror.\n"
     ]
    },
    {
     "data": {
      "text/plain": [
       "XGBRegressor(base_score=0.5, booster='gbtree', colsample_bylevel=1,\n",
       "             colsample_bynode=1, colsample_bytree=1, gamma=0,\n",
       "             importance_type='gain', learning_rate=0.1, max_delta_step=0,\n",
       "             max_depth=3, min_child_weight=1, missing=None, n_estimators=100,\n",
       "             n_jobs=1, nthread=None, objective='reg:linear', random_state=0,\n",
       "             reg_alpha=0, reg_lambda=1, scale_pos_weight=1, seed=None,\n",
       "             silent=None, subsample=1, verbosity=1)"
      ]
     },
     "execution_count": 667,
     "metadata": {},
     "output_type": "execute_result"
    }
   ],
   "source": [
    "xg_ac_d = XGBRegressor()\n",
    "xg_ac_d.fit(x_ac_d_train, y_ac_d_train)"
   ]
  },
  {
   "cell_type": "code",
   "execution_count": 668,
   "metadata": {},
   "outputs": [
    {
     "name": "stdout",
     "output_type": "stream",
     "text": [
      "코로나 이후 저녁 식수인원 예측 score :  0.7557081191168687\n"
     ]
    },
    {
     "data": {
      "image/png": "[encoded data removed]",
      "text/plain": [
       "<Figure size 432x288 with 1 Axes>"
      ]
     },
     "metadata": {
      "needs_background": "light"
     },
     "output_type": "display_data"
    }
   ],
   "source": [
    "sns.scatterplot(y_ac_d_test, xg_ac_d.predict(x_ac_d_test))\n",
    "print('코로나 이후 저녁 식수인원 예측 score : ',xg_ac_d.score(x_ac_d_test, y_ac_d_test))"
   ]
  },
  {
   "cell_type": "markdown",
   "metadata": {},
   "source": [
    "# ========================================="
   ]
  },
  {
   "cell_type": "markdown",
   "metadata": {},
   "source": [
    "# **LGBM**"
   ]
  },
  {
   "cell_type": "code",
   "execution_count": 669,
   "metadata": {},
   "outputs": [],
   "source": [
    "import lightgbm as lgb"
   ]
  },
  {
   "cell_type": "code",
   "execution_count": 670,
   "metadata": {},
   "outputs": [
    {
     "data": {
      "text/plain": [
       "LGBMRegressor(boosting_type='gbdt', class_weight=None, colsample_bytree=1.0,\n",
       "              importance_type='split', learning_rate=0.1, max_depth=-1,\n",
       "              min_child_samples=20, min_child_weight=0.001, min_split_gain=0.0,\n",
       "              n_estimators=100, n_jobs=-1, num_leaves=31, objective=None,\n",
       "              random_state=None, reg_alpha=0.0, reg_lambda=0.0, silent=True,\n",
       "              subsample=1.0, subsample_for_bin=200000, subsample_freq=0)"
      ]
     },
     "execution_count": 670,
     "metadata": {},
     "output_type": "execute_result"
    }
   ],
   "source": [
    "lg_l = lgb.LGBMRegressor()\n",
    "lg_l.fit(x_l_train, y_l_train)"
   ]
  },
  {
   "cell_type": "code",
   "execution_count": 671,
   "metadata": {},
   "outputs": [
    {
     "name": "stdout",
     "output_type": "stream",
     "text": [
      "점심 식수인원 예측 score :  0.7202868530727615\n"
     ]
    },
    {
     "data": {
      "image/png": "[encoded data removed]",
      "text/plain": [
       "<Figure size 432x288 with 1 Axes>"
      ]
     },
     "metadata": {
      "needs_background": "light"
     },
     "output_type": "display_data"
    }
   ],
   "source": [
    "sns.scatterplot(y_l_test, lg_l.predict(x_l_test))\n",
    "print('점심 식수인원 예측 score : ',lg_l.score(x_l_test, y_l_test))"
   ]
  },
  {
   "cell_type": "code",
   "execution_count": 672,
   "metadata": {},
   "outputs": [
    {
     "data": {
      "text/plain": [
       "LGBMRegressor(boosting_type='gbdt', class_weight=None, colsample_bytree=1.0,\n",
       "              importance_type='split', learning_rate=0.1, max_depth=-1,\n",
       "              min_child_samples=20, min_child_weight=0.001, min_split_gain=0.0,\n",
       "              n_estimators=100, n_jobs=-1, num_leaves=31, objective=None,\n",
       "              random_state=None, reg_alpha=0.0, reg_lambda=0.0, silent=True,\n",
       "              subsample=1.0, subsample_for_bin=200000, subsample_freq=0)"
      ]
     },
     "execution_count": 672,
     "metadata": {},
     "output_type": "execute_result"
    }
   ],
   "source": [
    "lg_d = lgb.LGBMRegressor()\n",
    "lg_d.fit(x_d_train, y_d_train)"
   ]
  },
  {
   "cell_type": "code",
   "execution_count": 673,
   "metadata": {},
   "outputs": [
    {
     "name": "stdout",
     "output_type": "stream",
     "text": [
      "저녁 식수인원 예측 score :  0.5187265861971204\n"
     ]
    },
    {
     "data": {
      "image/png": "[encoded data removed]",
      "text/plain": [
       "<Figure size 432x288 with 1 Axes>"
      ]
     },
     "metadata": {
      "needs_background": "light"
     },
     "output_type": "display_data"
    }
   ],
   "source": [
    "sns.scatterplot(y_d_test, lg_d.predict(x_d_test))\n",
    "print('저녁 식수인원 예측 score : ',lg_d.score(x_d_test, y_d_test))"
   ]
  },
  {
   "cell_type": "markdown",
   "metadata": {},
   "source": [
    "## **코로나 이전**"
   ]
  },
  {
   "cell_type": "code",
   "execution_count": 674,
   "metadata": {},
   "outputs": [
    {
     "data": {
      "text/plain": [
       "LGBMRegressor(boosting_type='gbdt', class_weight=None, colsample_bytree=1.0,\n",
       "              importance_type='split', learning_rate=0.1, max_depth=-1,\n",
       "              min_child_samples=20, min_child_weight=0.001, min_split_gain=0.0,\n",
       "              n_estimators=100, n_jobs=-1, num_leaves=31, objective=None,\n",
       "              random_state=None, reg_alpha=0.0, reg_lambda=0.0, silent=True,\n",
       "              subsample=1.0, subsample_for_bin=200000, subsample_freq=0)"
      ]
     },
     "execution_count": 674,
     "metadata": {},
     "output_type": "execute_result"
    }
   ],
   "source": [
    "lg_bc_l = lgb.LGBMRegressor()\n",
    "lg_bc_l.fit(x_bc_l_train, y_bc_l_train)"
   ]
  },
  {
   "cell_type": "code",
   "execution_count": 675,
   "metadata": {},
   "outputs": [
    {
     "name": "stdout",
     "output_type": "stream",
     "text": [
      "코로나 이전 점심 식수인원 예측 score :  0.7530076395271359\n"
     ]
    },
    {
     "data": {
      "image/png": "[encoded data removed]",
      "text/plain": [
       "<Figure size 432x288 with 1 Axes>"
      ]
     },
     "metadata": {
      "needs_background": "light"
     },
     "output_type": "display_data"
    }
   ],
   "source": [
    "sns.scatterplot(y_bc_l_test, lg_bc_l.predict(x_bc_l_test))\n",
    "print('코로나 이전 점심 식수인원 예측 score : ',lg_bc_l.score(x_bc_l_test, y_bc_l_test))"
   ]
  },
  {
   "cell_type": "code",
   "execution_count": 676,
   "metadata": {},
   "outputs": [
    {
     "data": {
      "text/plain": [
       "LGBMRegressor(boosting_type='gbdt', class_weight=None, colsample_bytree=1.0,\n",
       "              importance_type='split', learning_rate=0.1, max_depth=-1,\n",
       "              min_child_samples=20, min_child_weight=0.001, min_split_gain=0.0,\n",
       "              n_estimators=100, n_jobs=-1, num_leaves=31, objective=None,\n",
       "              random_state=None, reg_alpha=0.0, reg_lambda=0.0, silent=True,\n",
       "              subsample=1.0, subsample_for_bin=200000, subsample_freq=0)"
      ]
     },
     "execution_count": 676,
     "metadata": {},
     "output_type": "execute_result"
    }
   ],
   "source": [
    "lg_bc_d = lgb.LGBMRegressor()\n",
    "lg_bc_d.fit(x_bc_d_train, y_bc_d_train)"
   ]
  },
  {
   "cell_type": "code",
   "execution_count": 677,
   "metadata": {},
   "outputs": [
    {
     "name": "stdout",
     "output_type": "stream",
     "text": [
      "코로나 이전 저녁 식수인원 예측 score :  0.5271551532704286\n"
     ]
    },
    {
     "data": {
      "image/png": "[encoded data removed]",
      "text/plain": [
       "<Figure size 432x288 with 1 Axes>"
      ]
     },
     "metadata": {
      "needs_background": "light"
     },
     "output_type": "display_data"
    }
   ],
   "source": [
    "sns.scatterplot(y_bc_d_test, lg_bc_d.predict(x_bc_d_test))\n",
    "print('코로나 이전 저녁 식수인원 예측 score : ',lg_bc_d.score(x_bc_d_test, y_bc_d_test))"
   ]
  },
  {
   "cell_type": "markdown",
   "metadata": {},
   "source": [
    "## **코로나 이후**"
   ]
  },
  {
   "cell_type": "code",
   "execution_count": 678,
   "metadata": {},
   "outputs": [
    {
     "data": {
      "text/plain": [
       "LGBMRegressor(boosting_type='gbdt', class_weight=None, colsample_bytree=1.0,\n",
       "              importance_type='split', learning_rate=0.1, max_depth=-1,\n",
       "              min_child_samples=20, min_child_weight=0.001, min_split_gain=0.0,\n",
       "              n_estimators=100, n_jobs=-1, num_leaves=31, objective=None,\n",
       "              random_state=None, reg_alpha=0.0, reg_lambda=0.0, silent=True,\n",
       "              subsample=1.0, subsample_for_bin=200000, subsample_freq=0)"
      ]
     },
     "execution_count": 678,
     "metadata": {},
     "output_type": "execute_result"
    }
   ],
   "source": [
    "lg_ac_l = lgb.LGBMRegressor()\n",
    "lg_ac_l.fit(x_ac_l_train, y_ac_l_train)"
   ]
  },
  {
   "cell_type": "code",
   "execution_count": 679,
   "metadata": {},
   "outputs": [
    {
     "name": "stdout",
     "output_type": "stream",
     "text": [
      "코로나 이후 점심 식수인원 예측 score :  0.5595293746116121\n"
     ]
    },
    {
     "data": {
      "image/png": "[encoded data removed]",
      "text/plain": [
       "<Figure size 432x288 with 1 Axes>"
      ]
     },
     "metadata": {
      "needs_background": "light"
     },
     "output_type": "display_data"
    }
   ],
   "source": [
    "sns.scatterplot(y_ac_l_test, lg_ac_l.predict(x_ac_l_test))\n",
    "print('코로나 이후 점심 식수인원 예측 score : ',lg_ac_l.score(x_ac_l_test, y_ac_l_test))"
   ]
  },
  {
   "cell_type": "code",
   "execution_count": 680,
   "metadata": {},
   "outputs": [
    {
     "data": {
      "text/plain": [
       "LGBMRegressor(boosting_type='gbdt', class_weight=None, colsample_bytree=1.0,\n",
       "              importance_type='split', learning_rate=0.1, max_depth=-1,\n",
       "              min_child_samples=20, min_child_weight=0.001, min_split_gain=0.0,\n",
       "              n_estimators=100, n_jobs=-1, num_leaves=31, objective=None,\n",
       "              random_state=None, reg_alpha=0.0, reg_lambda=0.0, silent=True,\n",
       "              subsample=1.0, subsample_for_bin=200000, subsample_freq=0)"
      ]
     },
     "execution_count": 680,
     "metadata": {},
     "output_type": "execute_result"
    }
   ],
   "source": [
    "lg_ac_d = lgb.LGBMRegressor()\n",
    "lg_ac_d.fit(x_ac_d_train, y_ac_d_train)"
   ]
  },
  {
   "cell_type": "code",
   "execution_count": 681,
   "metadata": {},
   "outputs": [
    {
     "name": "stdout",
     "output_type": "stream",
     "text": [
      "코로나 이후 저녁 식수인원 예측 score :  0.69770460752862\n"
     ]
    },
    {
     "data": {
      "image/png": "[encoded data removed]",
      "text/plain": [
       "<Figure size 432x288 with 1 Axes>"
      ]
     },
     "metadata": {
      "needs_background": "light"
     },
     "output_type": "display_data"
    }
   ],
   "source": [
    "sns.scatterplot(y_ac_d_test, lg_ac_d.predict(x_ac_d_test))\n",
    "print('코로나 이후 저녁 식수인원 예측 score : ',lg_ac_d.score(x_ac_d_test, y_ac_d_test))"
   ]
  },
  {
   "cell_type": "markdown",
   "metadata": {},
   "source": [
    "# ==============================================="
   ]
  },
  {
   "cell_type": "markdown",
   "metadata": {},
   "source": [
    "# **모델 비교**"
   ]
  },
  {
   "cell_type": "code",
   "execution_count": 682,
   "metadata": {},
   "outputs": [],
   "source": [
    "score = pd.DataFrame(columns = ['group','score','model'])"
   ]
  },
  {
   "cell_type": "code",
   "execution_count": 683,
   "metadata": {},
   "outputs": [],
   "source": [
    "score.loc[0] = ['lunch',rf_l.score(x_l_test, y_l_test), 'RandomForest']\n",
    "score.loc[1] = ['dinner',rf_d.score(x_d_test, y_d_test), 'RandomForest']\n",
    "score.loc[2] = ['b_corona_lunch',rf_bc_l.score(x_bc_l_test, y_bc_l_test), 'RandomForest']\n",
    "score.loc[3] = ['b_corona_dinner',rf_bc_d.score(x_bc_d_test, y_bc_d_test), 'RandomForest']\n",
    "score.loc[4] = ['a_corona_lunch',rf_ac_l.score(x_ac_l_test, y_ac_l_test), 'RandomForest']\n",
    "score.loc[5] = ['a_corona_dinner',rf_ac_d.score(x_ac_d_test, y_ac_d_test), 'RandomForest']\n",
    "score.loc[6] = ['lunch',xg_l.score(x_l_test, y_l_test), 'XGBoost']\n",
    "score.loc[7] = ['dinner',xg_d.score(x_d_test, y_d_test), 'XGBoost']\n",
    "score.loc[8] = ['b_corona_lunch',xg_bc_l.score(x_bc_l_test, y_bc_l_test), 'XGBoost']\n",
    "score.loc[9] = ['b_corona_dinner',xg_bc_d.score(x_bc_d_test, y_bc_d_test), 'XGBoost']\n",
    "score.loc[10] = ['a_corona_lunch',xg_ac_l.score(x_ac_l_test, y_ac_l_test), 'XGBoost']\n",
    "score.loc[11] = ['a_corona_dinner',xg_ac_d.score(x_ac_d_test, y_ac_d_test), 'XGBoost']\n",
    "score.loc[12] = ['lunch',lg_l.score(x_l_test, y_l_test), 'LGBM']\n",
    "score.loc[13] = ['dinner',lg_d.score(x_d_test, y_d_test), 'LGBM']\n",
    "score.loc[14] = ['b_corona_lunch',lg_bc_l.score(x_bc_l_test, y_bc_l_test), 'LGBM']\n",
    "score.loc[15] = ['b_corona_dinner',lg_bc_d.score(x_bc_d_test, y_bc_d_test), 'LGBM']\n",
    "score.loc[16] = ['a_corona_lunch',lg_ac_l.score(x_ac_l_test, y_ac_l_test), 'LGBM']\n",
    "score.loc[17] = ['a_corona_dinner',lg_ac_d.score(x_ac_d_test, y_ac_d_test), 'LGBM']"
   ]
  },
  {
   "cell_type": "code",
   "execution_count": 684,
   "metadata": {},
   "outputs": [
    {
     "data": {
      "text/html": [
       "<div>\n",
       "<style scoped>\n",
       "    .dataframe tbody tr th:only-of-type {\n",
       "        vertical-align: middle;\n",
       "    }\n",
       "\n",
       "    .dataframe tbody tr th {\n",
       "        vertical-align: top;\n",
       "    }\n",
       "\n",
       "    .dataframe thead th {\n",
       "        text-align: right;\n",
       "    }\n",
       "</style>\n",
       "<table border=\"1\" class=\"dataframe\">\n",
       "  <thead>\n",
       "    <tr style=\"text-align: right;\">\n",
       "      <th></th>\n",
       "      <th>group</th>\n",
       "      <th>score</th>\n",
       "      <th>model</th>\n",
       "    </tr>\n",
       "  </thead>\n",
       "  <tbody>\n",
       "    <tr>\n",
       "      <td>0</td>\n",
       "      <td>lunch</td>\n",
       "      <td>0.711277</td>\n",
       "      <td>RandomForest</td>\n",
       "    </tr>\n",
       "    <tr>\n",
       "      <td>1</td>\n",
       "      <td>dinner</td>\n",
       "      <td>0.497430</td>\n",
       "      <td>RandomForest</td>\n",
       "    </tr>\n",
       "    <tr>\n",
       "      <td>2</td>\n",
       "      <td>b_corona_lunch</td>\n",
       "      <td>0.751562</td>\n",
       "      <td>RandomForest</td>\n",
       "    </tr>\n",
       "    <tr>\n",
       "      <td>3</td>\n",
       "      <td>b_corona_dinner</td>\n",
       "      <td>0.457347</td>\n",
       "      <td>RandomForest</td>\n",
       "    </tr>\n",
       "    <tr>\n",
       "      <td>4</td>\n",
       "      <td>a_corona_lunch</td>\n",
       "      <td>0.454452</td>\n",
       "      <td>RandomForest</td>\n",
       "    </tr>\n",
       "    <tr>\n",
       "      <td>5</td>\n",
       "      <td>a_corona_dinner</td>\n",
       "      <td>0.779396</td>\n",
       "      <td>RandomForest</td>\n",
       "    </tr>\n",
       "    <tr>\n",
       "      <td>6</td>\n",
       "      <td>lunch</td>\n",
       "      <td>0.744777</td>\n",
       "      <td>XGBoost</td>\n",
       "    </tr>\n",
       "    <tr>\n",
       "      <td>7</td>\n",
       "      <td>dinner</td>\n",
       "      <td>0.546286</td>\n",
       "      <td>XGBoost</td>\n",
       "    </tr>\n",
       "    <tr>\n",
       "      <td>8</td>\n",
       "      <td>b_corona_lunch</td>\n",
       "      <td>0.754593</td>\n",
       "      <td>XGBoost</td>\n",
       "    </tr>\n",
       "    <tr>\n",
       "      <td>9</td>\n",
       "      <td>b_corona_dinner</td>\n",
       "      <td>0.550964</td>\n",
       "      <td>XGBoost</td>\n",
       "    </tr>\n",
       "    <tr>\n",
       "      <td>10</td>\n",
       "      <td>a_corona_lunch</td>\n",
       "      <td>0.574087</td>\n",
       "      <td>XGBoost</td>\n",
       "    </tr>\n",
       "    <tr>\n",
       "      <td>11</td>\n",
       "      <td>a_corona_dinner</td>\n",
       "      <td>0.755708</td>\n",
       "      <td>XGBoost</td>\n",
       "    </tr>\n",
       "    <tr>\n",
       "      <td>12</td>\n",
       "      <td>lunch</td>\n",
       "      <td>0.720287</td>\n",
       "      <td>LGBM</td>\n",
       "    </tr>\n",
       "    <tr>\n",
       "      <td>13</td>\n",
       "      <td>dinner</td>\n",
       "      <td>0.518727</td>\n",
       "      <td>LGBM</td>\n",
       "    </tr>\n",
       "    <tr>\n",
       "      <td>14</td>\n",
       "      <td>b_corona_lunch</td>\n",
       "      <td>0.753008</td>\n",
       "      <td>LGBM</td>\n",
       "    </tr>\n",
       "    <tr>\n",
       "      <td>15</td>\n",
       "      <td>b_corona_dinner</td>\n",
       "      <td>0.527155</td>\n",
       "      <td>LGBM</td>\n",
       "    </tr>\n",
       "    <tr>\n",
       "      <td>16</td>\n",
       "      <td>a_corona_lunch</td>\n",
       "      <td>0.559529</td>\n",
       "      <td>LGBM</td>\n",
       "    </tr>\n",
       "    <tr>\n",
       "      <td>17</td>\n",
       "      <td>a_corona_dinner</td>\n",
       "      <td>0.697705</td>\n",
       "      <td>LGBM</td>\n",
       "    </tr>\n",
       "  </tbody>\n",
       "</table>\n",
       "</div>"
      ],
      "text/plain": [
       "              group     score         model\n",
       "0             lunch  0.711277  RandomForest\n",
       "1            dinner  0.497430  RandomForest\n",
       "2    b_corona_lunch  0.751562  RandomForest\n",
       "3   b_corona_dinner  0.457347  RandomForest\n",
       "4    a_corona_lunch  0.454452  RandomForest\n",
       "5   a_corona_dinner  0.779396  RandomForest\n",
       "6             lunch  0.744777       XGBoost\n",
       "7            dinner  0.546286       XGBoost\n",
       "8    b_corona_lunch  0.754593       XGBoost\n",
       "9   b_corona_dinner  0.550964       XGBoost\n",
       "10   a_corona_lunch  0.574087       XGBoost\n",
       "11  a_corona_dinner  0.755708       XGBoost\n",
       "12            lunch  0.720287          LGBM\n",
       "13           dinner  0.518727          LGBM\n",
       "14   b_corona_lunch  0.753008          LGBM\n",
       "15  b_corona_dinner  0.527155          LGBM\n",
       "16   a_corona_lunch  0.559529          LGBM\n",
       "17  a_corona_dinner  0.697705          LGBM"
      ]
     },
     "execution_count": 684,
     "metadata": {},
     "output_type": "execute_result"
    }
   ],
   "source": [
    "score"
   ]
  },
  {
   "cell_type": "code",
   "execution_count": 685,
   "metadata": {},
   "outputs": [
    {
     "data": {
      "image/png": "[encoded data removed]",
      "text/plain": [
       "<Figure size 1296x504 with 1 Axes>"
      ]
     },
     "metadata": {
      "needs_background": "light"
     },
     "output_type": "display_data"
    }
   ],
   "source": [
    "fig = plt.figure(figsize = (18,7))\n",
    "plt.axis([0, 0,0, 1])\n",
    "x_axis = score['group']\n",
    "y_axis = score['score']\n",
    "g=sns.barplot(x_axis, y_axis, hue = score['model'])\n",
    "ax=g\n",
    "#annotate axis = seaborn axis\n",
    "for p in ax.patches:\n",
    "                ax.annotate(\"%.4f\" % p.get_height(), (p.get_x() + p.get_width() / 2., p.get_height()),\n",
    "                    ha='center', va='center', fontsize=11, color='black', xytext=(0, 10),\n",
    "                    textcoords='offset points')\n"
   ]
  },
  {
   "cell_type": "code",
   "execution_count": 686,
   "metadata": {},
   "outputs": [],
   "source": [
    "train.to_csv('final.csv')"
   ]
  }
 ],
 "metadata": {
  "kernelspec": {
   "display_name": "Python 3",
   "language": "python",
   "name": "python3"
  },
  "language_info": {
   "codemirror_mode": {
    "name": "ipython",
    "version": 3
   },
   "file_extension": ".py",
   "mimetype": "text/x-python",
   "name": "python",
   "nbconvert_exporter": "python",
   "pygments_lexer": "ipython3",
   "version": "3.7.4"
  }
 },
 "nbformat": 4,
 "nbformat_minor": 4
}
